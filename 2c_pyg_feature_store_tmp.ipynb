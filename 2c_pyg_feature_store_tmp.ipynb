{
 "cells": [
  {
   "cell_type": "markdown",
   "id": "4d1114b1-fe7b-4321-a988-f6700190c68a",
   "metadata": {
    "tags": []
   },
   "source": [
    "# Source:\n",
    "- Pyg highlevel documentation:\n",
    "    - https://pytorch-geometric.readthedocs.io/en/latest/advanced/remote.html#feature-store\n",
    "<br><br>\n",
    "- Pyg Test of feature store: \n",
    "    - https://github.com/pyg-team/pytorch_geometric/blob/901a255346009c7294fd3cc1e825aa441f1dbd4f/torch_geometric/testing/feature_store.py\n",
    "<br><br>\n",
    "- Youtube pyg batch video:\n",
    "    - https://www.youtube.com/watch?v=mz9xYNg9Ofs\n",
    "    \n",
    "    \n",
    "---- \n",
    "Actually 2.2.0 tagged version\n",
    "https://github.com/pyg-team/pytorch_geometric/tree/2.2.0"
   ]
  },
  {
   "cell_type": "code",
   "execution_count": 1,
   "id": "f660838c-711a-4967-9d50-6a3d940a92a1",
   "metadata": {
    "tags": []
   },
   "outputs": [
    {
     "name": "stderr",
     "output_type": "stream",
     "text": [
      "/Users/epedersen/.pyenv/versions/3.8.12/envs/torch/lib/python3.8/site-packages/tqdm/auto.py:22: TqdmWarning: IProgress not found. Please update jupyter and ipywidgets. See https://ipywidgets.readthedocs.io/en/stable/user_install.html\n",
      "  from .autonotebook import tqdm as notebook_tqdm\n"
     ]
    },
    {
     "name": "stdout",
     "output_type": "stream",
     "text": [
      "Platform Darwin 22.3.0\n",
      "Python version 3.8.12 (default, Jul 12 2022, 16:17:42) \n",
      "[Clang 13.1.6 (clang-1316.0.21.2.5)]\n",
      "torch 1.13.1\n",
      "torch_geomeric 2.2.0\n"
     ]
    }
   ],
   "source": [
    "import sys\n",
    "import platform\n",
    "import torch\n",
    "import torch_geometric\n",
    "\n",
    "print(\"Platform\", platform.system(), platform.release())\n",
    "print(\"Python version\",sys.version)\n",
    "\n",
    "print(\"torch\",torch.__version__)\n",
    "print(\"torch_geomeric\",torch_geometric.__version__)\n",
    "\n"
   ]
  },
  {
   "cell_type": "code",
   "execution_count": 2,
   "id": "6552d11c-8de2-43d3-8707-7f09dd3d2f29",
   "metadata": {
    "tags": []
   },
   "outputs": [],
   "source": [
    "from typing import Dict, List, Optional, Tuple\n",
    "\n",
    "from torch import Tensor\n",
    "\n",
    "## FEATURE STORE\n",
    "from torch_geometric.data.feature_store import FeatureStore, TensorAttr\n",
    "from torch_geometric.typing import FeatureTensorType\n",
    "\n",
    "## GRAPH STORE\n",
    "from torch_geometric.data.graph_store import EdgeAttr, GraphStore\n",
    "from torch_geometric.typing import EdgeTensorType\n",
    "\n",
    "from torch_sparse import SparseTensor"
   ]
  },
  {
   "cell_type": "markdown",
   "id": "d733e621-e373-4800-8b5b-aeb66a204a15",
   "metadata": {},
   "source": [
    "## Implement custom feature and graph store as dictionaries"
   ]
  },
  {
   "cell_type": "code",
   "execution_count": 3,
   "id": "6045c5a6-685f-4544-aa81-f2bb651f15e9",
   "metadata": {},
   "outputs": [],
   "source": [
    "\n",
    "class MyFeatureStore(FeatureStore):\n",
    "    def __init__(self):\n",
    "        super().__init__()\n",
    "        self.store: Dict[Tuple[str, str], Tensor] = {}\n",
    "\n",
    "    @staticmethod\n",
    "    def key(attr: TensorAttr) -> str:\n",
    "        return (attr.group_name, attr.attr_name)\n",
    "\n",
    "    def _put_tensor(self, tensor: FeatureTensorType, attr: TensorAttr) -> bool:\n",
    "        index = attr.index\n",
    "\n",
    "        # None indices define the obvious index:\n",
    "        if index is None:\n",
    "            index = torch.arange(0, tensor.shape[0])\n",
    "\n",
    "        # Store the index:\n",
    "        self.store[MyFeatureStore.key(attr)] = (index, tensor)\n",
    "\n",
    "        return True\n",
    "\n",
    "    def _get_tensor(self, attr: TensorAttr) -> Optional[FeatureTensorType]:\n",
    "        index, tensor = self.store.get(MyFeatureStore.key(attr), (None, None))\n",
    "        if tensor is None:\n",
    "            return None\n",
    "\n",
    "        # None indices return the whole tensor:\n",
    "        if attr.index is None:\n",
    "            return tensor\n",
    "\n",
    "        # Empty slices return the whole tensor:\n",
    "        if (isinstance(attr.index, slice)\n",
    "                and attr.index == slice(None, None, None)):\n",
    "            return tensor\n",
    "\n",
    "        idx = (torch.cat([(index == v).nonzero() for v in attr.index]).view(-1)\n",
    "               if attr.index.numel() > 0 else [])\n",
    "        return tensor[idx]\n",
    "\n",
    "    def _remove_tensor(self, attr: TensorAttr) -> bool:\n",
    "        del self.store[MyFeatureStore.key(attr)]\n",
    "        return True\n",
    "\n",
    "    def _get_tensor_size(self, attr: TensorAttr) -> Tuple:\n",
    "        return self._get_tensor(attr).size()\n",
    "\n",
    "    def get_all_tensor_attrs(self) -> List[str]:\n",
    "        return [TensorAttr(*key) for key in self.store.keys()]\n",
    "\n",
    "    def __len__(self):\n",
    "        # TODO\n",
    "        return(1)\n"
   ]
  },
  {
   "cell_type": "code",
   "execution_count": 4,
   "id": "6d8fcdfd-8f22-439b-aada-3eb28a22e34f",
   "metadata": {
    "tags": []
   },
   "outputs": [],
   "source": [
    "\n",
    "class MyGraphStore(GraphStore):\n",
    "    def __init__(self):\n",
    "        super().__init__()\n",
    "        self.store: Dict[EdgeAttr, Tuple[Tensor, Tensor]] = {}\n",
    "\n",
    "    @staticmethod\n",
    "    def key(attr: EdgeAttr) -> str:\n",
    "        return (attr.edge_type, attr.layout.value, attr.is_sorted, attr.size)\n",
    "\n",
    "    def _put_edge_index(self, edge_index: EdgeTensorType,\n",
    "                        edge_attr: EdgeAttr) -> bool:\n",
    "        self.store[MyGraphStore.key(edge_attr)] = edge_index\n",
    "\n",
    "    def _get_edge_index(self, edge_attr: EdgeAttr) -> Optional[EdgeTensorType]:\n",
    "        return self.store.get(MyGraphStore.key(edge_attr), None)\n",
    "\n",
    "    def get_all_edge_attrs(self):\n",
    "        return [EdgeAttr(*key) for key in self.store]"
   ]
  },
  {
   "cell_type": "markdown",
   "id": "d163bc4a-fd7e-4f84-84d7-ecb8747f2740",
   "metadata": {},
   "source": [
    "### Actual tests\n",
    "- Feature_store:\n",
    "    - https://github.com/pyg-team/pytorch_geometric/blob/2.2.0/test/data/test_feature_store.py\n",
    "- Graph_store:\n",
    "    - https://github.com/pyg-team/pytorch_geometric/blob/2.2.0/test/data/test_graph_store.py"
   ]
  },
  {
   "cell_type": "code",
   "execution_count": 5,
   "id": "f3a97476-1e44-4441-b08e-53ad939b18d2",
   "metadata": {
    "tags": []
   },
   "outputs": [
    {
     "ename": "IndexError",
     "evalue": "phmap at(): lookup non-existent key",
     "output_type": "error",
     "traceback": [
      "\u001b[0;31m---------------------------------------------------------------------------\u001b[0m",
      "\u001b[0;31mIndexError\u001b[0m                                Traceback (most recent call last)",
      "Cell \u001b[0;32mIn[5], line 53\u001b[0m\n\u001b[1;32m     43\u001b[0m node_sampler \u001b[38;5;241m=\u001b[39m torch_geometric\u001b[38;5;241m.\u001b[39msampler\u001b[38;5;241m.\u001b[39mNeighborSampler((feature_store,graph_store), num_neighbors\u001b[38;5;241m=\u001b[39m[\u001b[38;5;241m1\u001b[39m],input_type\u001b[38;5;241m=\u001b[39m\u001b[38;5;124m\"\u001b[39m\u001b[38;5;124mcsr\u001b[39m\u001b[38;5;124m\"\u001b[39m)\n\u001b[1;32m     46\u001b[0m loader \u001b[38;5;241m=\u001b[39m torch_geometric\u001b[38;5;241m.\u001b[39mloader\u001b[38;5;241m.\u001b[39mNodeLoader(\n\u001b[1;32m     47\u001b[0m     data\u001b[38;5;241m=\u001b[39m(feature_store, graph_store),\n\u001b[1;32m     48\u001b[0m     node_sampler\u001b[38;5;241m=\u001b[39mnode_sampler,\n\u001b[1;32m     49\u001b[0m     batch_size\u001b[38;5;241m=\u001b[39m\u001b[38;5;241m1\u001b[39m,\n\u001b[1;32m     50\u001b[0m     input_nodes\u001b[38;5;241m=\u001b[39m\u001b[38;5;124m'\u001b[39m\u001b[38;5;124mA\u001b[39m\u001b[38;5;124m'\u001b[39m,\n\u001b[1;32m     51\u001b[0m )\n\u001b[0;32m---> 53\u001b[0m \u001b[38;5;28;01mfor\u001b[39;00m batch \u001b[38;5;129;01min\u001b[39;00m loader:\n\u001b[1;32m     54\u001b[0m     \u001b[38;5;28;01mpass\u001b[39;00m\n",
      "File \u001b[0;32m~/.pyenv/versions/3.8.12/envs/torch/lib/python3.8/site-packages/torch_geometric/loader/base.py:36\u001b[0m, in \u001b[0;36mDataLoaderIterator.__next__\u001b[0;34m(self)\u001b[0m\n\u001b[1;32m     35\u001b[0m \u001b[38;5;28;01mdef\u001b[39;00m \u001b[38;5;21m__next__\u001b[39m(\u001b[38;5;28mself\u001b[39m) \u001b[38;5;241m-\u001b[39m\u001b[38;5;241m>\u001b[39m Any:\n\u001b[0;32m---> 36\u001b[0m     \u001b[38;5;28;01mreturn\u001b[39;00m \u001b[38;5;28mself\u001b[39m\u001b[38;5;241m.\u001b[39mtransform_fn(\u001b[38;5;28;43mnext\u001b[39;49m\u001b[43m(\u001b[49m\u001b[38;5;28;43mself\u001b[39;49m\u001b[38;5;241;43m.\u001b[39;49m\u001b[43miterator\u001b[49m\u001b[43m)\u001b[49m)\n",
      "File \u001b[0;32m~/.pyenv/versions/3.8.12/envs/torch/lib/python3.8/site-packages/torch/utils/data/dataloader.py:628\u001b[0m, in \u001b[0;36m_BaseDataLoaderIter.__next__\u001b[0;34m(self)\u001b[0m\n\u001b[1;32m    625\u001b[0m \u001b[38;5;28;01mif\u001b[39;00m \u001b[38;5;28mself\u001b[39m\u001b[38;5;241m.\u001b[39m_sampler_iter \u001b[38;5;129;01mis\u001b[39;00m \u001b[38;5;28;01mNone\u001b[39;00m:\n\u001b[1;32m    626\u001b[0m     \u001b[38;5;66;03m# TODO(https://github.com/pytorch/pytorch/issues/76750)\u001b[39;00m\n\u001b[1;32m    627\u001b[0m     \u001b[38;5;28mself\u001b[39m\u001b[38;5;241m.\u001b[39m_reset()  \u001b[38;5;66;03m# type: ignore[call-arg]\u001b[39;00m\n\u001b[0;32m--> 628\u001b[0m data \u001b[38;5;241m=\u001b[39m \u001b[38;5;28;43mself\u001b[39;49m\u001b[38;5;241;43m.\u001b[39;49m\u001b[43m_next_data\u001b[49m\u001b[43m(\u001b[49m\u001b[43m)\u001b[49m\n\u001b[1;32m    629\u001b[0m \u001b[38;5;28mself\u001b[39m\u001b[38;5;241m.\u001b[39m_num_yielded \u001b[38;5;241m+\u001b[39m\u001b[38;5;241m=\u001b[39m \u001b[38;5;241m1\u001b[39m\n\u001b[1;32m    630\u001b[0m \u001b[38;5;28;01mif\u001b[39;00m \u001b[38;5;28mself\u001b[39m\u001b[38;5;241m.\u001b[39m_dataset_kind \u001b[38;5;241m==\u001b[39m _DatasetKind\u001b[38;5;241m.\u001b[39mIterable \u001b[38;5;129;01mand\u001b[39;00m \\\n\u001b[1;32m    631\u001b[0m         \u001b[38;5;28mself\u001b[39m\u001b[38;5;241m.\u001b[39m_IterableDataset_len_called \u001b[38;5;129;01mis\u001b[39;00m \u001b[38;5;129;01mnot\u001b[39;00m \u001b[38;5;28;01mNone\u001b[39;00m \u001b[38;5;129;01mand\u001b[39;00m \\\n\u001b[1;32m    632\u001b[0m         \u001b[38;5;28mself\u001b[39m\u001b[38;5;241m.\u001b[39m_num_yielded \u001b[38;5;241m>\u001b[39m \u001b[38;5;28mself\u001b[39m\u001b[38;5;241m.\u001b[39m_IterableDataset_len_called:\n",
      "File \u001b[0;32m~/.pyenv/versions/3.8.12/envs/torch/lib/python3.8/site-packages/torch/utils/data/dataloader.py:671\u001b[0m, in \u001b[0;36m_SingleProcessDataLoaderIter._next_data\u001b[0;34m(self)\u001b[0m\n\u001b[1;32m    669\u001b[0m \u001b[38;5;28;01mdef\u001b[39;00m \u001b[38;5;21m_next_data\u001b[39m(\u001b[38;5;28mself\u001b[39m):\n\u001b[1;32m    670\u001b[0m     index \u001b[38;5;241m=\u001b[39m \u001b[38;5;28mself\u001b[39m\u001b[38;5;241m.\u001b[39m_next_index()  \u001b[38;5;66;03m# may raise StopIteration\u001b[39;00m\n\u001b[0;32m--> 671\u001b[0m     data \u001b[38;5;241m=\u001b[39m \u001b[38;5;28;43mself\u001b[39;49m\u001b[38;5;241;43m.\u001b[39;49m\u001b[43m_dataset_fetcher\u001b[49m\u001b[38;5;241;43m.\u001b[39;49m\u001b[43mfetch\u001b[49m\u001b[43m(\u001b[49m\u001b[43mindex\u001b[49m\u001b[43m)\u001b[49m  \u001b[38;5;66;03m# may raise StopIteration\u001b[39;00m\n\u001b[1;32m    672\u001b[0m     \u001b[38;5;28;01mif\u001b[39;00m \u001b[38;5;28mself\u001b[39m\u001b[38;5;241m.\u001b[39m_pin_memory:\n\u001b[1;32m    673\u001b[0m         data \u001b[38;5;241m=\u001b[39m _utils\u001b[38;5;241m.\u001b[39mpin_memory\u001b[38;5;241m.\u001b[39mpin_memory(data, \u001b[38;5;28mself\u001b[39m\u001b[38;5;241m.\u001b[39m_pin_memory_device)\n",
      "File \u001b[0;32m~/.pyenv/versions/3.8.12/envs/torch/lib/python3.8/site-packages/torch/utils/data/_utils/fetch.py:61\u001b[0m, in \u001b[0;36m_MapDatasetFetcher.fetch\u001b[0;34m(self, possibly_batched_index)\u001b[0m\n\u001b[1;32m     59\u001b[0m \u001b[38;5;28;01melse\u001b[39;00m:\n\u001b[1;32m     60\u001b[0m     data \u001b[38;5;241m=\u001b[39m \u001b[38;5;28mself\u001b[39m\u001b[38;5;241m.\u001b[39mdataset[possibly_batched_index]\n\u001b[0;32m---> 61\u001b[0m \u001b[38;5;28;01mreturn\u001b[39;00m \u001b[38;5;28;43mself\u001b[39;49m\u001b[38;5;241;43m.\u001b[39;49m\u001b[43mcollate_fn\u001b[49m\u001b[43m(\u001b[49m\u001b[43mdata\u001b[49m\u001b[43m)\u001b[49m\n",
      "File \u001b[0;32m~/.pyenv/versions/3.8.12/envs/torch/lib/python3.8/site-packages/torch_geometric/loader/node_loader.py:112\u001b[0m, in \u001b[0;36mNodeLoader.collate_fn\u001b[0;34m(self, index)\u001b[0m\n\u001b[1;32m    109\u001b[0m \u001b[38;5;250m\u001b[39m\u001b[38;5;124mr\u001b[39m\u001b[38;5;124;03m\"\"\"Samples a subgraph from a batch of input nodes.\"\"\"\u001b[39;00m\n\u001b[1;32m    110\u001b[0m input_data: NodeSamplerInput \u001b[38;5;241m=\u001b[39m \u001b[38;5;28mself\u001b[39m\u001b[38;5;241m.\u001b[39minput_data[index]\n\u001b[0;32m--> 112\u001b[0m out \u001b[38;5;241m=\u001b[39m \u001b[38;5;28;43mself\u001b[39;49m\u001b[38;5;241;43m.\u001b[39;49m\u001b[43mnode_sampler\u001b[49m\u001b[38;5;241;43m.\u001b[39;49m\u001b[43msample_from_nodes\u001b[49m\u001b[43m(\u001b[49m\u001b[43minput_data\u001b[49m\u001b[43m)\u001b[49m\n\u001b[1;32m    114\u001b[0m \u001b[38;5;28;01mif\u001b[39;00m \u001b[38;5;28mself\u001b[39m\u001b[38;5;241m.\u001b[39mfilter_per_worker:  \u001b[38;5;66;03m# Execute `filter_fn` in the worker process\u001b[39;00m\n\u001b[1;32m    115\u001b[0m     out \u001b[38;5;241m=\u001b[39m \u001b[38;5;28mself\u001b[39m\u001b[38;5;241m.\u001b[39mfilter_fn(out)\n",
      "File \u001b[0;32m~/.pyenv/versions/3.8.12/envs/torch/lib/python3.8/site-packages/torch_geometric/sampler/neighbor_sampler.py:336\u001b[0m, in \u001b[0;36mNeighborSampler.sample_from_nodes\u001b[0;34m(self, index, **kwargs)\u001b[0m\n\u001b[1;32m    331\u001b[0m \u001b[38;5;28;01mdef\u001b[39;00m \u001b[38;5;21msample_from_nodes\u001b[39m(\n\u001b[1;32m    332\u001b[0m     \u001b[38;5;28mself\u001b[39m,\n\u001b[1;32m    333\u001b[0m     index: NodeSamplerInput,\n\u001b[1;32m    334\u001b[0m     \u001b[38;5;241m*\u001b[39m\u001b[38;5;241m*\u001b[39mkwargs,\n\u001b[1;32m    335\u001b[0m ) \u001b[38;5;241m-\u001b[39m\u001b[38;5;241m>\u001b[39m Union[SamplerOutput, HeteroSamplerOutput]:\n\u001b[0;32m--> 336\u001b[0m     \u001b[38;5;28;01mreturn\u001b[39;00m \u001b[43mnode_sample\u001b[49m\u001b[43m(\u001b[49m\u001b[43mindex\u001b[49m\u001b[43m,\u001b[49m\u001b[43m \u001b[49m\u001b[38;5;28;43mself\u001b[39;49m\u001b[38;5;241;43m.\u001b[39;49m\u001b[43m_sample\u001b[49m\u001b[43m,\u001b[49m\u001b[43m \u001b[49m\u001b[38;5;28;43mself\u001b[39;49m\u001b[38;5;241;43m.\u001b[39;49m\u001b[43minput_type\u001b[49m\u001b[43m,\u001b[49m\u001b[43m \u001b[49m\u001b[38;5;241;43m*\u001b[39;49m\u001b[38;5;241;43m*\u001b[39;49m\u001b[43mkwargs\u001b[49m\u001b[43m)\u001b[49m\n",
      "File \u001b[0;32m~/.pyenv/versions/3.8.12/envs/torch/lib/python3.8/site-packages/torch_geometric/sampler/neighbor_sampler.py:375\u001b[0m, in \u001b[0;36mnode_sample\u001b[0;34m(index, sample_fn, input_type, **kwargs)\u001b[0m\n\u001b[1;32m    373\u001b[0m     \u001b[38;5;28;01mif\u001b[39;00m input_time \u001b[38;5;129;01mis\u001b[39;00m \u001b[38;5;129;01mnot\u001b[39;00m \u001b[38;5;28;01mNone\u001b[39;00m:\n\u001b[1;32m    374\u001b[0m         seed_time_dict \u001b[38;5;241m=\u001b[39m {input_type: input_time}\n\u001b[0;32m--> 375\u001b[0m     output \u001b[38;5;241m=\u001b[39m \u001b[43msample_fn\u001b[49m\u001b[43m(\u001b[49m\u001b[43mseed\u001b[49m\u001b[38;5;241;43m=\u001b[39;49m\u001b[43m{\u001b[49m\u001b[43minput_type\u001b[49m\u001b[43m:\u001b[49m\u001b[43m \u001b[49m\u001b[43minput_nodes\u001b[49m\u001b[43m}\u001b[49m\u001b[43m,\u001b[49m\n\u001b[1;32m    376\u001b[0m \u001b[43m                       \u001b[49m\u001b[43mseed_time_dict\u001b[49m\u001b[38;5;241;43m=\u001b[39;49m\u001b[43mseed_time_dict\u001b[49m\u001b[43m)\u001b[49m\n\u001b[1;32m    377\u001b[0m     output\u001b[38;5;241m.\u001b[39mmetadata \u001b[38;5;241m=\u001b[39m index\n\u001b[1;32m    379\u001b[0m \u001b[38;5;28;01melse\u001b[39;00m:\n\u001b[1;32m    380\u001b[0m     \u001b[38;5;66;03m# Homogeneous sampling:\u001b[39;00m\n",
      "File \u001b[0;32m~/.pyenv/versions/3.8.12/envs/torch/lib/python3.8/site-packages/torch_geometric/sampler/neighbor_sampler.py:258\u001b[0m, in \u001b[0;36mNeighborSampler._sample\u001b[0;34m(self, seed, **kwargs)\u001b[0m\n\u001b[1;32m    253\u001b[0m     \u001b[38;5;28;01mif\u001b[39;00m \u001b[38;5;28mself\u001b[39m\u001b[38;5;241m.\u001b[39mdisjoint:\n\u001b[1;32m    254\u001b[0m         \u001b[38;5;28;01mraise\u001b[39;00m \u001b[38;5;167;01mValueError\u001b[39;00m(\u001b[38;5;124m\"\u001b[39m\u001b[38;5;124m'\u001b[39m\u001b[38;5;124mdisjoint\u001b[39m\u001b[38;5;124m'\u001b[39m\u001b[38;5;124m sampling not supported for \u001b[39m\u001b[38;5;124m\"\u001b[39m\n\u001b[1;32m    255\u001b[0m                          \u001b[38;5;124m\"\u001b[39m\u001b[38;5;124mneighbor sampling via \u001b[39m\u001b[38;5;124m'\u001b[39m\u001b[38;5;124mtorch-sparse\u001b[39m\u001b[38;5;124m'\u001b[39m\u001b[38;5;124m. \u001b[39m\u001b[38;5;124m\"\u001b[39m\n\u001b[1;32m    256\u001b[0m                          \u001b[38;5;124m\"\u001b[39m\u001b[38;5;124mPlease install \u001b[39m\u001b[38;5;124m'\u001b[39m\u001b[38;5;124mpyg-lib\u001b[39m\u001b[38;5;124m'\u001b[39m\u001b[38;5;124m for improved \u001b[39m\u001b[38;5;124m\"\u001b[39m\n\u001b[1;32m    257\u001b[0m                          \u001b[38;5;124m\"\u001b[39m\u001b[38;5;124mand optimized sampling routines.\u001b[39m\u001b[38;5;124m\"\u001b[39m)\n\u001b[0;32m--> 258\u001b[0m     out \u001b[38;5;241m=\u001b[39m \u001b[43mtorch\u001b[49m\u001b[38;5;241;43m.\u001b[39;49m\u001b[43mops\u001b[49m\u001b[38;5;241;43m.\u001b[39;49m\u001b[43mtorch_sparse\u001b[49m\u001b[38;5;241;43m.\u001b[39;49m\u001b[43mhetero_neighbor_sample\u001b[49m\u001b[43m(\u001b[49m\n\u001b[1;32m    259\u001b[0m \u001b[43m        \u001b[49m\u001b[38;5;28;43mself\u001b[39;49m\u001b[38;5;241;43m.\u001b[39;49m\u001b[43mnode_types\u001b[49m\u001b[43m,\u001b[49m\n\u001b[1;32m    260\u001b[0m \u001b[43m        \u001b[49m\u001b[38;5;28;43mself\u001b[39;49m\u001b[38;5;241;43m.\u001b[39;49m\u001b[43medge_types\u001b[49m\u001b[43m,\u001b[49m\n\u001b[1;32m    261\u001b[0m \u001b[43m        \u001b[49m\u001b[38;5;28;43mself\u001b[39;49m\u001b[38;5;241;43m.\u001b[39;49m\u001b[43mcolptr_dict\u001b[49m\u001b[43m,\u001b[49m\n\u001b[1;32m    262\u001b[0m \u001b[43m        \u001b[49m\u001b[38;5;28;43mself\u001b[39;49m\u001b[38;5;241;43m.\u001b[39;49m\u001b[43mrow_dict\u001b[49m\u001b[43m,\u001b[49m\n\u001b[1;32m    263\u001b[0m \u001b[43m        \u001b[49m\u001b[43mseed\u001b[49m\u001b[43m,\u001b[49m\u001b[43m  \u001b[49m\u001b[38;5;66;43;03m# seed_dict\u001b[39;49;00m\n\u001b[1;32m    264\u001b[0m \u001b[43m        \u001b[49m\u001b[38;5;28;43mself\u001b[39;49m\u001b[38;5;241;43m.\u001b[39;49m\u001b[43mnum_neighbors\u001b[49m\u001b[43m,\u001b[49m\n\u001b[1;32m    265\u001b[0m \u001b[43m        \u001b[49m\u001b[38;5;28;43mself\u001b[39;49m\u001b[38;5;241;43m.\u001b[39;49m\u001b[43mnum_hops\u001b[49m\u001b[43m,\u001b[49m\n\u001b[1;32m    266\u001b[0m \u001b[43m        \u001b[49m\u001b[38;5;28;43mself\u001b[39;49m\u001b[38;5;241;43m.\u001b[39;49m\u001b[43mreplace\u001b[49m\u001b[43m,\u001b[49m\n\u001b[1;32m    267\u001b[0m \u001b[43m        \u001b[49m\u001b[38;5;28;43mself\u001b[39;49m\u001b[38;5;241;43m.\u001b[39;49m\u001b[43mdirected\u001b[49m\u001b[43m,\u001b[49m\n\u001b[1;32m    268\u001b[0m \u001b[43m    \u001b[49m\u001b[43m)\u001b[49m\n\u001b[1;32m    269\u001b[0m     node, row, col, edge, batch \u001b[38;5;241m=\u001b[39m out \u001b[38;5;241m+\u001b[39m (\u001b[38;5;28;01mNone\u001b[39;00m, )\n\u001b[1;32m    271\u001b[0m \u001b[38;5;28;01mreturn\u001b[39;00m HeteroSamplerOutput(\n\u001b[1;32m    272\u001b[0m     node\u001b[38;5;241m=\u001b[39mnode,\n\u001b[1;32m    273\u001b[0m     row\u001b[38;5;241m=\u001b[39mremap_keys(row, \u001b[38;5;28mself\u001b[39m\u001b[38;5;241m.\u001b[39mto_edge_type),\n\u001b[0;32m   (...)\u001b[0m\n\u001b[1;32m    276\u001b[0m     batch\u001b[38;5;241m=\u001b[39mbatch,\n\u001b[1;32m    277\u001b[0m )\n",
      "File \u001b[0;32m~/.pyenv/versions/3.8.12/envs/torch/lib/python3.8/site-packages/torch/_ops.py:442\u001b[0m, in \u001b[0;36mOpOverloadPacket.__call__\u001b[0;34m(self, *args, **kwargs)\u001b[0m\n\u001b[1;32m    437\u001b[0m \u001b[38;5;28;01mdef\u001b[39;00m \u001b[38;5;21m__call__\u001b[39m(\u001b[38;5;28mself\u001b[39m, \u001b[38;5;241m*\u001b[39margs, \u001b[38;5;241m*\u001b[39m\u001b[38;5;241m*\u001b[39mkwargs):\n\u001b[1;32m    438\u001b[0m     \u001b[38;5;66;03m# overloading __call__ to ensure torch.ops.foo.bar()\u001b[39;00m\n\u001b[1;32m    439\u001b[0m     \u001b[38;5;66;03m# is still callable from JIT\u001b[39;00m\n\u001b[1;32m    440\u001b[0m     \u001b[38;5;66;03m# We save the function ptr as the `op` attribute on\u001b[39;00m\n\u001b[1;32m    441\u001b[0m     \u001b[38;5;66;03m# OpOverloadPacket to access it here.\u001b[39;00m\n\u001b[0;32m--> 442\u001b[0m     \u001b[38;5;28;01mreturn\u001b[39;00m \u001b[38;5;28;43mself\u001b[39;49m\u001b[38;5;241;43m.\u001b[39;49m\u001b[43m_op\u001b[49m\u001b[43m(\u001b[49m\u001b[38;5;241;43m*\u001b[39;49m\u001b[43margs\u001b[49m\u001b[43m,\u001b[49m\u001b[43m \u001b[49m\u001b[38;5;241;43m*\u001b[39;49m\u001b[38;5;241;43m*\u001b[39;49m\u001b[43mkwargs\u001b[49m\u001b[43m \u001b[49m\u001b[38;5;129;43;01mor\u001b[39;49;00m\u001b[43m \u001b[49m\u001b[43m{\u001b[49m\u001b[43m}\u001b[49m\u001b[43m)\u001b[49m\n",
      "\u001b[0;31mIndexError\u001b[0m: phmap at(): lookup non-existent key"
     ]
    }
   ],
   "source": [
    "# Feature store - heterogenous\n",
    "feature_store = MyFeatureStore()\n",
    "tensor_a = torch.Tensor([[0, 0, 0], [1, 1, 1], [2, 2, 2]])\n",
    "tensor_b = torch.Tensor([[0, 0, 0], [1, 1, 1], [2, 2, 2]])\n",
    "\n",
    "\n",
    "group_name_a = 'A'\n",
    "attr_name_a = 'feat_a'\n",
    "group_name_b = 'B'\n",
    "attr_name_b = 'feat_b'\n",
    "\n",
    "index_a = torch.tensor([0, 1, 2])\n",
    "index_b = torch.tensor([0, 1, 2])\n",
    "attr_a = TensorAttr(group_name_a, attr_name_a, index_a)\n",
    "attr_b = TensorAttr(group_name_b, attr_name_b, index_b)\n",
    "\n",
    "\n",
    "feature_store.put_tensor(tensor_a, attr_a)\n",
    "feature_store.put_tensor(tensor_b, attr_b)\n",
    "\n",
    "# Graph store - heterogenous\n",
    "graph_store = MyGraphStore()\n",
    "edge_index_ab = torch.LongTensor([(0, 1), (1, 2), (2,0),(0,2)])\n",
    "#adj = SparseTensor(row=edge_index_ab[0], col=edge_index_ab[1])\n",
    "coo = (edge_index_ab[0], edge_index_ab[1])\n",
    "\n",
    "\n",
    "edge_attr_ab = torch_geometric.data.graph_store.EdgeAttr(\n",
    "    edge_type = (\"A\",\"link_name_ab\",\"B\"),\n",
    "    layout = \"csr\",\n",
    "    is_sorted = False,\n",
    "    size = (2,2))\n",
    "\n",
    "\n",
    "graph_store.put_edge_index(edge_index = coo,\n",
    "                           edge_type=('A', '1', 'B'),\n",
    "                            layout='coo', \n",
    "                            size=(2, 2),\n",
    "                           is_sorted=False\n",
    "                          )\n",
    "\n",
    "\n",
    "node_sampler = torch_geometric.sampler.NeighborSampler((feature_store,graph_store), num_neighbors=[1],input_type=\"csr\")\n",
    "\n",
    "\n",
    "loader = torch_geometric.loader.NodeLoader(\n",
    "    data=(feature_store, graph_store),\n",
    "    node_sampler=node_sampler,\n",
    "    batch_size=1,\n",
    "    input_nodes='A',\n",
    ")\n",
    "\n",
    "for batch in loader:\n",
    "    pass"
   ]
  }
 ],
 "metadata": {
  "kernelspec": {
   "display_name": "Python 3 (ipykernel)",
   "language": "python",
   "name": "python3"
  },
  "language_info": {
   "codemirror_mode": {
    "name": "ipython",
    "version": 3
   },
   "file_extension": ".py",
   "mimetype": "text/x-python",
   "name": "python",
   "nbconvert_exporter": "python",
   "pygments_lexer": "ipython3",
   "version": "3.8.12"
  }
 },
 "nbformat": 4,
 "nbformat_minor": 5
}
