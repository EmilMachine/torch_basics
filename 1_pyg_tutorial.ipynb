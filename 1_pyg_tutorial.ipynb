{
 "cells": [
  {
   "cell_type": "markdown",
   "id": "8bbd0c89-21dc-4ece-be04-ee9965d510bf",
   "metadata": {},
   "source": [
    "# PyG (pytorch-geometric) tutorial\n",
    "- source: https://pytorch-geometric.readthedocs.io/en/latest/get_started/introduction.html\n",
    "\n",
    "```\n",
    "PyTorch and torchvision define an example as a tuple of an image and a target. We omit this notation in PyG to allow for various data structures in a clean and understandable way.\n",
    "```"
   ]
  },
  {
   "cell_type": "code",
   "execution_count": 1,
   "id": "e7587eba-c89c-48d8-8990-891ad8061bce",
   "metadata": {},
   "outputs": [],
   "source": [
    "# CUDA=\"cpu\"\n",
    "# pip install torch-scatter torch-sparse -f https://data.pyg.org/whl/torch-1.12.0+${CUDA}.html\n",
    "# pip install torch-geometric\n"
   ]
  },
  {
   "cell_type": "code",
   "execution_count": 45,
   "id": "6afb0794-e0f6-45e6-b671-c4081beca0ca",
   "metadata": {},
   "outputs": [],
   "source": [
    "import sys\n",
    "import platform\n",
    "\n",
    "import torch\n",
    "import torch_geometric\n",
    "from torch_geometric.data import Data\n",
    "from torch_geometric.datasets import Planetoid\n",
    "\n",
    "import torch.nn.functional as F\n",
    "from torch_geometric.nn import GCNConv\n",
    "\n",
    "import networkx as nx\n",
    "import matplotlib.pyplot as plt"
   ]
  },
  {
   "cell_type": "code",
   "execution_count": 4,
   "id": "410a15c7-3881-4134-bf38-dc17880d5338",
   "metadata": {},
   "outputs": [
    {
     "name": "stdout",
     "output_type": "stream",
     "text": [
      "Platform Darwin 22.3.0\n",
      "Python version 3.8.12 (default, Jul 12 2022, 16:17:42) \n",
      "[Clang 13.1.6 (clang-1316.0.21.2.5)]\n",
      "torch 1.13.1\n",
      "torch_geomeric 2.2.0\n"
     ]
    }
   ],
   "source": [
    "print(\"Platform\", platform.system(), platform.release())\n",
    "print(\"Python version\",sys.version)\n",
    "\n",
    "print(\"torch\",torch.__version__)\n",
    "print(\"torch_geomeric\",torch_geometric.__version__)\n"
   ]
  },
  {
   "cell_type": "code",
   "execution_count": 36,
   "id": "60fdffda-a1be-463f-a44c-0bff412c3f24",
   "metadata": {
    "tags": []
   },
   "outputs": [],
   "source": [
    "## helper functions\n",
    "\n",
    "def vis_graph(data,figsize=(10,10)):\n",
    "    vis_graph = torch_geometric.utils.convert.to_networkx(data)\n",
    "    vis_labels = list(vis_graph.nodes)\n",
    "\n",
    "    plt.figure(1,figsize=figsize) \n",
    "    nx.draw(vis_graph, \n",
    "            cmap=plt.get_cmap('Set1'),\n",
    "            node_color = vis_labels,\n",
    "            node_size=75,\n",
    "            linewidths=6,\n",
    "            with_labels = True)\n",
    "    plt.show()"
   ]
  },
  {
   "cell_type": "code",
   "execution_count": 37,
   "id": "72d15022-d487-4796-b17c-6634431ad63b",
   "metadata": {},
   "outputs": [
    {
     "data": {
      "image/png": "[encoded data removed]",
      "text/plain": [
       "<Figure size 200x200 with 1 Axes>"
      ]
     },
     "metadata": {},
     "output_type": "display_data"
    }
   ],
   "source": [
    "# eample graph\n",
    "edge_index = torch.tensor([[0, 1, 1, 2],\n",
    "                           [1, 0, 2, 1]], dtype=torch.long)\n",
    "x = torch.tensor([[-1], [0], [1]], dtype=torch.float)\n",
    "\n",
    "data = Data(x=x, edge_index=edge_index)\n",
    "\n",
    "vis_graph(data=data,figsize=(2,2))\n"
   ]
  },
  {
   "cell_type": "code",
   "execution_count": 43,
   "id": "5775e147-5775-4963-be27-a35cf441d823",
   "metadata": {
    "tags": []
   },
   "outputs": [],
   "source": [
    "# Official toy dataset (a series of grpahs\n",
    "dataset = Planetoid(root='/tmp/Cora', name='Cora')\n"
   ]
  },
  {
   "cell_type": "code",
   "execution_count": 46,
   "id": "88adb8c2-5049-42b0-a6ee-d554bf7945d9",
   "metadata": {
    "tags": []
   },
   "outputs": [],
   "source": [
    "class GCN(torch.nn.Module):\n",
    "    def __init__(self):\n",
    "        super().__init__()\n",
    "        self.conv1 = GCNConv(dataset.num_node_features, 16)\n",
    "        self.conv2 = GCNConv(16, dataset.num_classes)\n",
    "\n",
    "    def forward(self, data):\n",
    "        x, edge_index = data.x, data.edge_index\n",
    "\n",
    "        x = self.conv1(x, edge_index)\n",
    "        x = F.relu(x)\n",
    "        x = F.dropout(x, training=self.training)\n",
    "        x = self.conv2(x, edge_index)\n",
    "\n",
    "        return F.log_softmax(x, dim=1)\n"
   ]
  },
  {
   "cell_type": "code",
   "execution_count": 47,
   "id": "a6a52a1b-f230-45fd-84d5-b97a544af2d2",
   "metadata": {
    "tags": []
   },
   "outputs": [],
   "source": [
    "device = torch.device('cuda' if torch.cuda.is_available() else 'cpu')\n",
    "model = GCN().to(device)\n",
    "data = dataset[0].to(device)\n",
    "optimizer = torch.optim.Adam(model.parameters(), lr=0.01, weight_decay=5e-4)\n",
    "\n",
    "model.train()\n",
    "for epoch in range(200):\n",
    "    optimizer.zero_grad()\n",
    "    out = model(data)\n",
    "    loss = F.nll_loss(out[data.train_mask], data.y[data.train_mask])\n",
    "    loss.backward()\n",
    "    optimizer.step()"
   ]
  },
  {
   "cell_type": "code",
   "execution_count": 48,
   "id": "c512798e-aeb2-4b31-8eff-6fb8194b0e0c",
   "metadata": {
    "tags": []
   },
   "outputs": [],
   "source": [
    "model.eval()\n",
    "pred = model(data).argmax(dim=1)\n",
    "correct = (pred[data.test_mask] == data.y[data.test_mask]).sum()\n",
    "acc = int(correct) / int(data.test_mask.sum())"
   ]
  },
  {
   "cell_type": "code",
   "execution_count": 49,
   "id": "bcbf9fe2-6bf3-4b9c-b031-aa2b3d70d892",
   "metadata": {
    "tags": []
   },
   "outputs": [
    {
     "data": {
      "text/plain": [
       "0.794"
      ]
     },
     "execution_count": 49,
     "metadata": {},
     "output_type": "execute_result"
    }
   ],
   "source": [
    "acc"
   ]
  },
  {
   "cell_type": "code",
   "execution_count": null,
   "id": "935fa491-d70d-40c1-8522-608710b19f4b",
   "metadata": {},
   "outputs": [],
   "source": []
  }
 ],
 "metadata": {
  "kernelspec": {
   "display_name": "Python 3 (ipykernel)",
   "language": "python",
   "name": "python3"
  },
  "language_info": {
   "codemirror_mode": {
    "name": "ipython",
    "version": 3
   },
   "file_extension": ".py",
   "mimetype": "text/x-python",
   "name": "python",
   "nbconvert_exporter": "python",
   "pygments_lexer": "ipython3",
   "version": "3.8.12"
  }
 },
 "nbformat": 4,
 "nbformat_minor": 5
}
