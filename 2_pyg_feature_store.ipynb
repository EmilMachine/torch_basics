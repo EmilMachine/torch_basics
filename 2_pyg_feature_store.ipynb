{
 "cells": [
  {
   "cell_type": "markdown",
   "id": "4d1114b1-fe7b-4321-a988-f6700190c68a",
   "metadata": {
    "tags": []
   },
   "source": [
    "# Source:\n",
    "- Pyg highlevel documentation:\n",
    "    - https://pytorch-geometric.readthedocs.io/en/latest/advanced/remote.html#feature-store\n",
    "<br><br>\n",
    "- Pyg Test of feature store: \n",
    "    - https://github.com/pyg-team/pytorch_geometric/blob/901a255346009c7294fd3cc1e825aa441f1dbd4f/torch_geometric/testing/feature_store.py\n",
    "<br><br>\n",
    "- Youtube pyg batch video:\n",
    "    - https://www.youtube.com/watch?v=mz9xYNg9Ofs\n",
    "    \n",
    "    \n",
    "---- \n",
    "Actually 2.2.0 tagged version\n",
    "https://github.com/pyg-team/pytorch_geometric/tree/2.2.0"
   ]
  },
  {
   "cell_type": "code",
   "execution_count": 7,
   "id": "f660838c-711a-4967-9d50-6a3d940a92a1",
   "metadata": {
    "tags": []
   },
   "outputs": [
    {
     "name": "stdout",
     "output_type": "stream",
     "text": [
      "Platform Darwin 22.3.0\n",
      "Python version 3.8.12 (default, Jul 12 2022, 16:17:42) \n",
      "[Clang 13.1.6 (clang-1316.0.21.2.5)]\n",
      "torch 1.13.1\n",
      "torch_geomeric 2.2.0\n"
     ]
    }
   ],
   "source": [
    "import sys\n",
    "import platform\n",
    "import torch\n",
    "import torch_geometric\n",
    "\n",
    "print(\"Platform\", platform.system(), platform.release())\n",
    "print(\"Python version\",sys.version)\n",
    "\n",
    "print(\"torch\",torch.__version__)\n",
    "print(\"torch_geomeric\",torch_geometric.__version__)\n",
    "\n"
   ]
  },
  {
   "cell_type": "markdown",
   "id": "d163bc4a-fd7e-4f84-84d7-ecb8747f2740",
   "metadata": {},
   "source": [
    "### Just copies this test\n",
    "- https://github.com/pyg-team/pytorch_geometric/blob/master/test/loader/test_neighbor_loader.py#L352\n",
    "\n",
    "- HeteroData has dummy in memomory Implementations of all interfaces. (ie. also graphstore, feature_store)\n",
    "    - https://github.com/pyg-team/pytorch_geometric/blob/master/torch_geometric/data/hetero_data.py"
   ]
  },
  {
   "cell_type": "code",
   "execution_count": 5,
   "id": "71831c2a-5a6c-4ca1-9cd7-98381b051d07",
   "metadata": {
    "tags": []
   },
   "outputs": [],
   "source": [
    "from torch_geometric.data import Data, HeteroData\n",
    "from torch_geometric.loader import NeighborLoader\n",
    "from torch_sparse import SparseTensor"
   ]
  },
  {
   "cell_type": "code",
   "execution_count": 6,
   "id": "2d06fb2d-409f-469b-9390-e6f3f06f8c4e",
   "metadata": {
    "tags": []
   },
   "outputs": [],
   "source": [
    "\n",
    "# Initialize feature store, graph store, and reference:\n",
    "feature_store = HeteroData()\n",
    "graph_store = HeteroData()\n",
    "data = HeteroData()\n",
    "\n",
    "x = torch.arange(100)\n",
    "data['paper'].x = x\n",
    "feature_store.put_tensor(x, group_name='paper', attr_name='x', index=None)\n",
    "\n",
    "x = torch.arange(100, 300)\n",
    "data['author'].x = x\n",
    "feature_store.put_tensor(x, group_name='author', attr_name='x', index=None)\n",
    "\n",
    "def get_edge_index(num_src_nodes, num_dst_nodes, num_edges, dtype=torch.int64):\n",
    "    row = torch.randint(num_src_nodes, (num_edges, ), dtype=dtype)\n",
    "    col = torch.randint(num_dst_nodes, (num_edges, ), dtype=dtype)\n",
    "    return torch.stack([row, col], dim=0)\n",
    "\n",
    "# COO:\n",
    "edge_index = get_edge_index(100, 100, 500)\n",
    "data['paper', 'to', 'paper'].edge_index = edge_index\n",
    "coo = (edge_index[0], edge_index[1])\n",
    "graph_store.put_edge_index(edge_index=coo,\n",
    "                           edge_type=('paper', 'to', 'paper'),\n",
    "                           layout='coo', size=(100, 100))\n",
    "\n",
    "# CSR:\n",
    "edge_index = get_edge_index(100, 200, 1000)\n",
    "data['paper', 'to', 'author'].edge_index = edge_index\n",
    "csr = SparseTensor.from_edge_index(edge_index).csr()[:2]\n",
    "graph_store.put_edge_index(edge_index=csr,\n",
    "                           edge_type=('paper', 'to', 'author'),\n",
    "                           layout='csr', size=(100, 200))\n",
    "\n",
    "# CSC:\n",
    "edge_index = get_edge_index(200, 100, 1000)\n",
    "data['author', 'to', 'paper'].edge_index = edge_index\n",
    "csc = SparseTensor(row=edge_index[1], col=edge_index[0]).csr()[-2::-1]\n",
    "graph_store.put_edge_index(edge_index=csc,\n",
    "                           edge_type=('author', 'to', 'paper'),\n",
    "                           layout='csc', size=(200, 100))\n",
    "\n",
    "# COO (sorted):\n",
    "edge_index = get_edge_index(200, 200, 100)\n",
    "edge_index = edge_index[:, edge_index[1].argsort()]\n",
    "data['author', 'to', 'author'].edge_index = edge_index\n",
    "coo = (edge_index[0], edge_index[1])\n",
    "graph_store.put_edge_index(edge_index=coo,\n",
    "                           edge_type=('author', 'to', 'author'),\n",
    "                           layout='coo', size=(200, 200), is_sorted=True)\n",
    "\n",
    "# Construct neighbor loaders:\n",
    "loader = NeighborLoader((feature_store, graph_store), batch_size=20,\n",
    "                         input_nodes=('paper', range(100)),\n",
    "                         num_neighbors=[-1] * 2)\n",
    "\n",
    "\n",
    "for batch in loader:\n",
    "    pass\n",
    "    # TODO, actual training here"
   ]
  },
  {
   "cell_type": "code",
   "execution_count": null,
   "id": "112b586d-7ba2-446c-9076-8c1c8104eb33",
   "metadata": {},
   "outputs": [],
   "source": []
  }
 ],
 "metadata": {
  "kernelspec": {
   "display_name": "Python 3 (ipykernel)",
   "language": "python",
   "name": "python3"
  },
  "language_info": {
   "codemirror_mode": {
    "name": "ipython",
    "version": 3
   },
   "file_extension": ".py",
   "mimetype": "text/x-python",
   "name": "python",
   "nbconvert_exporter": "python",
   "pygments_lexer": "ipython3",
   "version": "3.8.12"
  }
 },
 "nbformat": 4,
 "nbformat_minor": 5
}
