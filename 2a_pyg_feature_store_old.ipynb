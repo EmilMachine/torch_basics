{
 "cells": [
  {
   "cell_type": "markdown",
   "id": "4d1114b1-fe7b-4321-a988-f6700190c68a",
   "metadata": {
    "tags": []
   },
   "source": [
    "# Source:\n",
    "- Pyg highlevel documentation:\n",
    "    - https://pytorch-geometric.readthedocs.io/en/latest/advanced/remote.html#feature-store\n",
    "<br><br>\n",
    "- Pyg Test of feature store: \n",
    "    - https://github.com/pyg-team/pytorch_geometric/blob/901a255346009c7294fd3cc1e825aa441f1dbd4f/torch_geometric/testing/feature_store.py\n",
    "<br><br>\n",
    "- Youtube pyg batch video:\n",
    "    - https://www.youtube.com/watch?v=mz9xYNg9Ofs\n",
    "    \n",
    "    \n",
    "---- \n",
    "Actually 2.2.0 tagged version\n",
    "https://github.com/pyg-team/pytorch_geometric/tree/2.2.0"
   ]
  },
  {
   "cell_type": "code",
   "execution_count": 15,
   "id": "f660838c-711a-4967-9d50-6a3d940a92a1",
   "metadata": {
    "tags": []
   },
   "outputs": [
    {
     "name": "stdout",
     "output_type": "stream",
     "text": [
      "Platform Darwin 22.3.0\n",
      "Python version 3.8.12 (default, Jul 12 2022, 16:17:42) \n",
      "[Clang 13.1.6 (clang-1316.0.21.2.5)]\n",
      "torch 1.13.1\n",
      "torch_geomeric 2.2.0\n"
     ]
    }
   ],
   "source": [
    "import sys\n",
    "import platform\n",
    "import torch_geometric\n",
    "\n",
    "print(\"Platform\", platform.system(), platform.release())\n",
    "print(\"Python version\",sys.version)\n",
    "\n",
    "print(\"torch\",torch.__version__)\n",
    "print(\"torch_geomeric\",torch_geometric.__version__)\n",
    "\n"
   ]
  },
  {
   "cell_type": "code",
   "execution_count": 116,
   "id": "6552d11c-8de2-43d3-8707-7f09dd3d2f29",
   "metadata": {
    "tags": []
   },
   "outputs": [],
   "source": [
    "from typing import Dict, List, Optional, Tuple\n",
    "\n",
    "import torch\n",
    "from torch import Tensor\n",
    "\n",
    "## FEATURE STORE\n",
    "from torch_geometric.data.feature_store import FeatureStore, TensorAttr\n",
    "from torch_geometric.typing import FeatureTensorType\n",
    "\n",
    "## GRAPH STORE\n",
    "from torch_geometric.data.graph_store import EdgeAttr, GraphStore\n",
    "from torch_geometric.typing import EdgeTensorType\n",
    "\n",
    "## SAMPLER \n",
    "#from torch_geometric.sampler import BaseSampler, NeighborSampler\n",
    "#from torch_geometric.loader import NeighborSampler\n",
    "# THERE EXISTS TWO FUCKING SAMPLERS\n",
    "# torch_geometric.loader.NeighborSampler\n",
    "# torch_geometric.sampler.NeighborSampler\n",
    "\n",
    "## TEST DATA \n",
    "from torch_geometric.utils import erdos_renyi_graph\n",
    "from torch_sparse import SparseTensor"
   ]
  },
  {
   "cell_type": "markdown",
   "id": "d733e621-e373-4800-8b5b-aeb66a204a15",
   "metadata": {},
   "source": [
    "## Implement custom feature and graph store as dictionaries"
   ]
  },
  {
   "cell_type": "code",
   "execution_count": 137,
   "id": "6045c5a6-685f-4544-aa81-f2bb651f15e9",
   "metadata": {},
   "outputs": [],
   "source": [
    "\n",
    "class MyFeatureStore(FeatureStore):\n",
    "    def __init__(self):\n",
    "        super().__init__()\n",
    "        self.store: Dict[Tuple[str, str], Tensor] = {}\n",
    "\n",
    "    @staticmethod\n",
    "    def key(attr: TensorAttr) -> str:\n",
    "        return (attr.group_name, attr.attr_name)\n",
    "\n",
    "    def _put_tensor(self, tensor: FeatureTensorType, attr: TensorAttr) -> bool:\n",
    "        index = attr.index\n",
    "\n",
    "        # None indices define the obvious index:\n",
    "        if index is None:\n",
    "            index = torch.arange(0, tensor.shape[0])\n",
    "\n",
    "        # Store the index:\n",
    "        self.store[MyFeatureStore.key(attr)] = (index, tensor)\n",
    "\n",
    "        return True\n",
    "\n",
    "    def _get_tensor(self, attr: TensorAttr) -> Optional[FeatureTensorType]:\n",
    "        index, tensor = self.store.get(MyFeatureStore.key(attr), (None, None))\n",
    "        if tensor is None:\n",
    "            return None\n",
    "\n",
    "        # None indices return the whole tensor:\n",
    "        if attr.index is None:\n",
    "            return tensor\n",
    "\n",
    "        # Empty slices return the whole tensor:\n",
    "        if (isinstance(attr.index, slice)\n",
    "                and attr.index == slice(None, None, None)):\n",
    "            return tensor\n",
    "\n",
    "        idx = (torch.cat([(index == v).nonzero() for v in attr.index]).view(-1)\n",
    "               if attr.index.numel() > 0 else [])\n",
    "        return tensor[idx]\n",
    "\n",
    "    def _remove_tensor(self, attr: TensorAttr) -> bool:\n",
    "        del self.store[MyFeatureStore.key(attr)]\n",
    "        return True\n",
    "\n",
    "    def _get_tensor_size(self, attr: TensorAttr) -> Tuple:\n",
    "        return self._get_tensor(attr).size()\n",
    "\n",
    "    def get_all_tensor_attrs(self) -> List[str]:\n",
    "        return [TensorAttr(*key) for key in self.store.keys()]\n",
    "\n",
    "    def __len__(self):\n",
    "        # TODO\n",
    "        return(1)\n"
   ]
  },
  {
   "cell_type": "code",
   "execution_count": 138,
   "id": "6d8fcdfd-8f22-439b-aada-3eb28a22e34f",
   "metadata": {
    "tags": []
   },
   "outputs": [],
   "source": [
    "\n",
    "class MyGraphStore(GraphStore):\n",
    "    def __init__(self):\n",
    "        super().__init__()\n",
    "        self.store: Dict[EdgeAttr, Tuple[Tensor, Tensor]] = {}\n",
    "\n",
    "    @staticmethod\n",
    "    def key(attr: EdgeAttr) -> str:\n",
    "        return (attr.edge_type, attr.layout.value, attr.is_sorted, attr.size)\n",
    "\n",
    "    def _put_edge_index(self, edge_index: EdgeTensorType,\n",
    "                        edge_attr: EdgeAttr) -> bool:\n",
    "        self.store[MyGraphStore.key(edge_attr)] = edge_index\n",
    "\n",
    "    def _get_edge_index(self, edge_attr: EdgeAttr) -> Optional[EdgeTensorType]:\n",
    "        return self.store.get(MyGraphStore.key(edge_attr), None)\n",
    "\n",
    "    def get_all_edge_attrs(self):\n",
    "        return [EdgeAttr(*key) for key in self.store]"
   ]
  },
  {
   "cell_type": "code",
   "execution_count": 200,
   "id": "de2c0426-3e84-45ba-8896-871b2c893fd6",
   "metadata": {
    "tags": []
   },
   "outputs": [
    {
     "ename": "NameError",
     "evalue": "name 'NodeSamplerInput' is not defined",
     "output_type": "error",
     "traceback": [
      "\u001b[0;31m---------------------------------------------------------------------------\u001b[0m",
      "\u001b[0;31mNameError\u001b[0m                                 Traceback (most recent call last)",
      "Cell \u001b[0;32mIn[200], line 1\u001b[0m\n\u001b[0;32m----> 1\u001b[0m \u001b[38;5;28;01mclass\u001b[39;00m \u001b[38;5;21;01mMySampler\u001b[39;00m(torch_geometric\u001b[38;5;241m.\u001b[39msampler\u001b[38;5;241m.\u001b[39mBaseSampler):\n\u001b[1;32m      2\u001b[0m \u001b[38;5;250m    \u001b[39m\u001b[38;5;124mr\u001b[39m\u001b[38;5;124;03m\"\"\"An abstract base class that initializes a graph sampler and provides\u001b[39;00m\n\u001b[1;32m      3\u001b[0m \u001b[38;5;124;03m    :meth:`sample_from_nodes` and :meth:`sample_from_edges` routines.\u001b[39;00m\n\u001b[1;32m      4\u001b[0m \u001b[38;5;124;03m    .. note ::\u001b[39;00m\n\u001b[0;32m   (...)\u001b[0m\n\u001b[1;32m      9\u001b[0m \u001b[38;5;124;03m        the sampler.\u001b[39;00m\n\u001b[1;32m     10\u001b[0m \u001b[38;5;124;03m    \"\"\"\u001b[39;00m\n\u001b[1;32m     11\u001b[0m     \u001b[38;5;28;01mdef\u001b[39;00m \u001b[38;5;21msample_from_nodes\u001b[39m(\n\u001b[1;32m     12\u001b[0m         \u001b[38;5;28mself\u001b[39m,\n\u001b[1;32m     13\u001b[0m         index: NodeSamplerInput,\n\u001b[1;32m     14\u001b[0m         \u001b[38;5;241m*\u001b[39m\u001b[38;5;241m*\u001b[39mkwargs,\n\u001b[1;32m     15\u001b[0m     ) \u001b[38;5;241m-\u001b[39m\u001b[38;5;241m>\u001b[39m Union[HeteroSamplerOutput, SamplerOutput]:\n",
      "Cell \u001b[0;32mIn[200], line 13\u001b[0m, in \u001b[0;36mMySampler\u001b[0;34m()\u001b[0m\n\u001b[1;32m      1\u001b[0m \u001b[38;5;28;01mclass\u001b[39;00m \u001b[38;5;21;01mMySampler\u001b[39;00m(torch_geometric\u001b[38;5;241m.\u001b[39msampler\u001b[38;5;241m.\u001b[39mBaseSampler):\n\u001b[1;32m      2\u001b[0m \u001b[38;5;250m    \u001b[39m\u001b[38;5;124mr\u001b[39m\u001b[38;5;124;03m\"\"\"An abstract base class that initializes a graph sampler and provides\u001b[39;00m\n\u001b[1;32m      3\u001b[0m \u001b[38;5;124;03m    :meth:`sample_from_nodes` and :meth:`sample_from_edges` routines.\u001b[39;00m\n\u001b[1;32m      4\u001b[0m \u001b[38;5;124;03m    .. note ::\u001b[39;00m\n\u001b[0;32m   (...)\u001b[0m\n\u001b[1;32m      9\u001b[0m \u001b[38;5;124;03m        the sampler.\u001b[39;00m\n\u001b[1;32m     10\u001b[0m \u001b[38;5;124;03m    \"\"\"\u001b[39;00m\n\u001b[1;32m     11\u001b[0m     \u001b[38;5;28;01mdef\u001b[39;00m \u001b[38;5;21msample_from_nodes\u001b[39m(\n\u001b[1;32m     12\u001b[0m         \u001b[38;5;28mself\u001b[39m,\n\u001b[0;32m---> 13\u001b[0m         index: \u001b[43mNodeSamplerInput\u001b[49m,\n\u001b[1;32m     14\u001b[0m         \u001b[38;5;241m*\u001b[39m\u001b[38;5;241m*\u001b[39mkwargs,\n\u001b[1;32m     15\u001b[0m     ) \u001b[38;5;241m-\u001b[39m\u001b[38;5;241m>\u001b[39m Union[HeteroSamplerOutput, SamplerOutput]:\n\u001b[1;32m     16\u001b[0m \u001b[38;5;250m        \u001b[39m\u001b[38;5;124mr\u001b[39m\u001b[38;5;124;03m\"\"\"Performs sampling from the nodes specified in :obj:`index`,\u001b[39;00m\n\u001b[1;32m     17\u001b[0m \u001b[38;5;124;03m        returning a sampled subgraph in the specified output format.\u001b[39;00m\n\u001b[1;32m     18\u001b[0m \u001b[38;5;124;03m        The :obj:`index` is a tuple holding the following information:\u001b[39;00m\n\u001b[0;32m   (...)\u001b[0m\n\u001b[1;32m     23\u001b[0m \u001b[38;5;124;03m            index (NodeSamplerInput): The node sampler input object.\u001b[39;00m\n\u001b[1;32m     24\u001b[0m \u001b[38;5;124;03m        \"\"\"\u001b[39;00m\n\u001b[1;32m     25\u001b[0m         \u001b[38;5;28;01mraise\u001b[39;00m \u001b[38;5;167;01mNotImplementedError\u001b[39;00m\n",
      "\u001b[0;31mNameError\u001b[0m: name 'NodeSamplerInput' is not defined"
     ]
    }
   ],
   "source": [
    "class MySampler(torch_geometric.sampler.BaseSampler):\n",
    "    r\"\"\"An abstract base class that initializes a graph sampler and provides\n",
    "    :meth:`sample_from_nodes` and :meth:`sample_from_edges` routines.\n",
    "    .. note ::\n",
    "        Any data stored in the sampler will be *replicated* across data loading\n",
    "        workers that use the sampler since each data loading worker holds its\n",
    "        own instance of a sampler.\n",
    "        As such, it is recommended to limit the amount of information stored in\n",
    "        the sampler.\n",
    "    \"\"\"\n",
    "    def sample_from_nodes(\n",
    "        self,\n",
    "        index: NodeSamplerInput,\n",
    "        **kwargs,\n",
    "    ) -> Union[HeteroSamplerOutput, SamplerOutput]:\n",
    "        r\"\"\"Performs sampling from the nodes specified in :obj:`index`,\n",
    "        returning a sampled subgraph in the specified output format.\n",
    "        The :obj:`index` is a tuple holding the following information:\n",
    "        1. The example indices of the seed nodes\n",
    "        2. The node indices to start sampling from\n",
    "        3. The timestamps of the given seed nodes (optional)\n",
    "        Args:\n",
    "            index (NodeSamplerInput): The node sampler input object.\n",
    "        \"\"\"\n",
    "        raise NotImplementedError\n",
    "\n",
    "    def sample_from_edges(\n",
    "        self,\n",
    "        index: EdgeSamplerInput,\n",
    "        neg_sampling: Optional[NegativeSampling] = None,\n",
    "    ) -> Union[HeteroSamplerOutput, SamplerOutput]:\n",
    "        r\"\"\"Performs sampling from the edges specified in :obj:`index`,\n",
    "        returning a sampled subgraph in the specified output format.\n",
    "        The :obj:`index` is a tuple holding the following information:\n",
    "        1. The example indices of the seed links\n",
    "        2. The source node indices to start sampling from\n",
    "        3. The destination node indices to start sampling from\n",
    "        4. The labels of the seed links (optional)\n",
    "        5. The timestamps of the given seed nodes (optional)\n",
    "        Args:\n",
    "            index (EdgeSamplerInput): The edge sampler input object.\n",
    "            neg_sampling (NegativeSampling, optional): The negative sampling\n",
    "                configuration. (default: :obj:`None`)\n",
    "        \"\"\"\n",
    "        raise NotImplementedError\n",
    "\n",
    "    @property\n",
    "    def edge_permutation(self) -> Union[OptTensor, Dict[EdgeType, OptTensor]]:\n",
    "        r\"\"\"If the sampler performs any modification of edge ordering in the\n",
    "        original graph, this function is expected to return the permutation\n",
    "        tensor that defines the permutation from the edges in the original\n",
    "        graph and the edges used in the sampler. If no such permutation was\n",
    "        applied, :obj:`None` is returned. For heterogeneous graphs, the\n",
    "        expected return type is a permutation tensor for each edge type.\"\"\"\n",
    "        return None"
   ]
  },
  {
   "cell_type": "markdown",
   "id": "d163bc4a-fd7e-4f84-84d7-ecb8747f2740",
   "metadata": {},
   "source": [
    "### Actual tests\n",
    "- Feature_store:\n",
    "    - https://github.com/pyg-team/pytorch_geometric/blob/2.2.0/test/data/test_feature_store.py\n",
    "- Graph_store:\n",
    "    - https://github.com/pyg-team/pytorch_geometric/blob/2.2.0/test/data/test_graph_store.py"
   ]
  },
  {
   "cell_type": "code",
   "execution_count": 199,
   "id": "92f0359a-64ff-444d-a959-1b46882c1cfb",
   "metadata": {
    "tags": []
   },
   "outputs": [
    {
     "data": {
      "text/plain": [
       "SparseTensor(row=tensor([0, 1]),\n",
       "             col=tensor([1, 2]),\n",
       "             size=(2, 3), nnz=2, density=33.33%)"
      ]
     },
     "execution_count": 199,
     "metadata": {},
     "output_type": "execute_result"
    }
   ],
   "source": [
    "adj"
   ]
  },
  {
   "cell_type": "code",
   "execution_count": null,
   "id": "ddcc69d2-6496-468b-93af-6ac85d858074",
   "metadata": {},
   "outputs": [],
   "source": [
    "group_name = 'index'\n",
    "attr_name = 'index'\n",
    "index = torch.tensor([0, 1])\n",
    "attr_graph = TensorAttr(group_name, attr_name, index)\n",
    "\n",
    "graph_store.put_edge_index(edge_index, attr_graph)"
   ]
  },
  {
   "cell_type": "code",
   "execution_count": 207,
   "id": "0f5dad43-ead3-4121-99d4-8ace8da576de",
   "metadata": {
    "tags": []
   },
   "outputs": [
    {
     "data": {
      "text/plain": [
       "True"
      ]
     },
     "execution_count": 207,
     "metadata": {},
     "output_type": "execute_result"
    }
   ],
   "source": []
  },
  {
   "cell_type": "code",
   "execution_count": 255,
   "id": "f3a97476-1e44-4441-b08e-53ad939b18d2",
   "metadata": {
    "tags": []
   },
   "outputs": [
    {
     "ename": "IndexError",
     "evalue": "phmap at(): lookup non-existent key",
     "output_type": "error",
     "traceback": [
      "\u001b[0;31m---------------------------------------------------------------------------\u001b[0m",
      "\u001b[0;31mIndexError\u001b[0m                                Traceback (most recent call last)",
      "Cell \u001b[0;32mIn[255], line 54\u001b[0m\n\u001b[1;32m     43\u001b[0m node_sampler \u001b[38;5;241m=\u001b[39m torch_geometric\u001b[38;5;241m.\u001b[39msampler\u001b[38;5;241m.\u001b[39mNeighborSampler((feature_store,graph_store), num_neighbors\u001b[38;5;241m=\u001b[39m[\u001b[38;5;241m1\u001b[39m],input_type\u001b[38;5;241m=\u001b[39m\u001b[38;5;124m\"\u001b[39m\u001b[38;5;124mcsr\u001b[39m\u001b[38;5;124m\"\u001b[39m)\n\u001b[1;32m     46\u001b[0m loader \u001b[38;5;241m=\u001b[39m torch_geometric\u001b[38;5;241m.\u001b[39mloader\u001b[38;5;241m.\u001b[39mNodeLoader(\n\u001b[1;32m     47\u001b[0m     data\u001b[38;5;241m=\u001b[39m(feature_store, graph_store),\n\u001b[1;32m     48\u001b[0m     node_sampler\u001b[38;5;241m=\u001b[39mnode_sampler,\n\u001b[1;32m     49\u001b[0m     batch_size\u001b[38;5;241m=\u001b[39m\u001b[38;5;241m1\u001b[39m,\n\u001b[1;32m     50\u001b[0m     input_nodes\u001b[38;5;241m=\u001b[39m\u001b[38;5;124m'\u001b[39m\u001b[38;5;124mA\u001b[39m\u001b[38;5;124m'\u001b[39m,\n\u001b[1;32m     51\u001b[0m )\n\u001b[0;32m---> 54\u001b[0m \u001b[38;5;28;01mfor\u001b[39;00m batch \u001b[38;5;129;01min\u001b[39;00m loader:\n\u001b[1;32m     55\u001b[0m     \u001b[38;5;28;01mpass\u001b[39;00m\n",
      "File \u001b[0;32m~/.pyenv/versions/3.8.12/envs/torch/lib/python3.8/site-packages/torch_geometric/loader/base.py:36\u001b[0m, in \u001b[0;36mDataLoaderIterator.__next__\u001b[0;34m(self)\u001b[0m\n\u001b[1;32m     35\u001b[0m \u001b[38;5;28;01mdef\u001b[39;00m \u001b[38;5;21m__next__\u001b[39m(\u001b[38;5;28mself\u001b[39m) \u001b[38;5;241m-\u001b[39m\u001b[38;5;241m>\u001b[39m Any:\n\u001b[0;32m---> 36\u001b[0m     \u001b[38;5;28;01mreturn\u001b[39;00m \u001b[38;5;28mself\u001b[39m\u001b[38;5;241m.\u001b[39mtransform_fn(\u001b[38;5;28;43mnext\u001b[39;49m\u001b[43m(\u001b[49m\u001b[38;5;28;43mself\u001b[39;49m\u001b[38;5;241;43m.\u001b[39;49m\u001b[43miterator\u001b[49m\u001b[43m)\u001b[49m)\n",
      "File \u001b[0;32m~/.pyenv/versions/3.8.12/envs/torch/lib/python3.8/site-packages/torch/utils/data/dataloader.py:628\u001b[0m, in \u001b[0;36m_BaseDataLoaderIter.__next__\u001b[0;34m(self)\u001b[0m\n\u001b[1;32m    625\u001b[0m \u001b[38;5;28;01mif\u001b[39;00m \u001b[38;5;28mself\u001b[39m\u001b[38;5;241m.\u001b[39m_sampler_iter \u001b[38;5;129;01mis\u001b[39;00m \u001b[38;5;28;01mNone\u001b[39;00m:\n\u001b[1;32m    626\u001b[0m     \u001b[38;5;66;03m# TODO(https://github.com/pytorch/pytorch/issues/76750)\u001b[39;00m\n\u001b[1;32m    627\u001b[0m     \u001b[38;5;28mself\u001b[39m\u001b[38;5;241m.\u001b[39m_reset()  \u001b[38;5;66;03m# type: ignore[call-arg]\u001b[39;00m\n\u001b[0;32m--> 628\u001b[0m data \u001b[38;5;241m=\u001b[39m \u001b[38;5;28;43mself\u001b[39;49m\u001b[38;5;241;43m.\u001b[39;49m\u001b[43m_next_data\u001b[49m\u001b[43m(\u001b[49m\u001b[43m)\u001b[49m\n\u001b[1;32m    629\u001b[0m \u001b[38;5;28mself\u001b[39m\u001b[38;5;241m.\u001b[39m_num_yielded \u001b[38;5;241m+\u001b[39m\u001b[38;5;241m=\u001b[39m \u001b[38;5;241m1\u001b[39m\n\u001b[1;32m    630\u001b[0m \u001b[38;5;28;01mif\u001b[39;00m \u001b[38;5;28mself\u001b[39m\u001b[38;5;241m.\u001b[39m_dataset_kind \u001b[38;5;241m==\u001b[39m _DatasetKind\u001b[38;5;241m.\u001b[39mIterable \u001b[38;5;129;01mand\u001b[39;00m \\\n\u001b[1;32m    631\u001b[0m         \u001b[38;5;28mself\u001b[39m\u001b[38;5;241m.\u001b[39m_IterableDataset_len_called \u001b[38;5;129;01mis\u001b[39;00m \u001b[38;5;129;01mnot\u001b[39;00m \u001b[38;5;28;01mNone\u001b[39;00m \u001b[38;5;129;01mand\u001b[39;00m \\\n\u001b[1;32m    632\u001b[0m         \u001b[38;5;28mself\u001b[39m\u001b[38;5;241m.\u001b[39m_num_yielded \u001b[38;5;241m>\u001b[39m \u001b[38;5;28mself\u001b[39m\u001b[38;5;241m.\u001b[39m_IterableDataset_len_called:\n",
      "File \u001b[0;32m~/.pyenv/versions/3.8.12/envs/torch/lib/python3.8/site-packages/torch/utils/data/dataloader.py:671\u001b[0m, in \u001b[0;36m_SingleProcessDataLoaderIter._next_data\u001b[0;34m(self)\u001b[0m\n\u001b[1;32m    669\u001b[0m \u001b[38;5;28;01mdef\u001b[39;00m \u001b[38;5;21m_next_data\u001b[39m(\u001b[38;5;28mself\u001b[39m):\n\u001b[1;32m    670\u001b[0m     index \u001b[38;5;241m=\u001b[39m \u001b[38;5;28mself\u001b[39m\u001b[38;5;241m.\u001b[39m_next_index()  \u001b[38;5;66;03m# may raise StopIteration\u001b[39;00m\n\u001b[0;32m--> 671\u001b[0m     data \u001b[38;5;241m=\u001b[39m \u001b[38;5;28;43mself\u001b[39;49m\u001b[38;5;241;43m.\u001b[39;49m\u001b[43m_dataset_fetcher\u001b[49m\u001b[38;5;241;43m.\u001b[39;49m\u001b[43mfetch\u001b[49m\u001b[43m(\u001b[49m\u001b[43mindex\u001b[49m\u001b[43m)\u001b[49m  \u001b[38;5;66;03m# may raise StopIteration\u001b[39;00m\n\u001b[1;32m    672\u001b[0m     \u001b[38;5;28;01mif\u001b[39;00m \u001b[38;5;28mself\u001b[39m\u001b[38;5;241m.\u001b[39m_pin_memory:\n\u001b[1;32m    673\u001b[0m         data \u001b[38;5;241m=\u001b[39m _utils\u001b[38;5;241m.\u001b[39mpin_memory\u001b[38;5;241m.\u001b[39mpin_memory(data, \u001b[38;5;28mself\u001b[39m\u001b[38;5;241m.\u001b[39m_pin_memory_device)\n",
      "File \u001b[0;32m~/.pyenv/versions/3.8.12/envs/torch/lib/python3.8/site-packages/torch/utils/data/_utils/fetch.py:61\u001b[0m, in \u001b[0;36m_MapDatasetFetcher.fetch\u001b[0;34m(self, possibly_batched_index)\u001b[0m\n\u001b[1;32m     59\u001b[0m \u001b[38;5;28;01melse\u001b[39;00m:\n\u001b[1;32m     60\u001b[0m     data \u001b[38;5;241m=\u001b[39m \u001b[38;5;28mself\u001b[39m\u001b[38;5;241m.\u001b[39mdataset[possibly_batched_index]\n\u001b[0;32m---> 61\u001b[0m \u001b[38;5;28;01mreturn\u001b[39;00m \u001b[38;5;28;43mself\u001b[39;49m\u001b[38;5;241;43m.\u001b[39;49m\u001b[43mcollate_fn\u001b[49m\u001b[43m(\u001b[49m\u001b[43mdata\u001b[49m\u001b[43m)\u001b[49m\n",
      "File \u001b[0;32m~/.pyenv/versions/3.8.12/envs/torch/lib/python3.8/site-packages/torch_geometric/loader/node_loader.py:112\u001b[0m, in \u001b[0;36mNodeLoader.collate_fn\u001b[0;34m(self, index)\u001b[0m\n\u001b[1;32m    109\u001b[0m \u001b[38;5;250m\u001b[39m\u001b[38;5;124mr\u001b[39m\u001b[38;5;124;03m\"\"\"Samples a subgraph from a batch of input nodes.\"\"\"\u001b[39;00m\n\u001b[1;32m    110\u001b[0m input_data: NodeSamplerInput \u001b[38;5;241m=\u001b[39m \u001b[38;5;28mself\u001b[39m\u001b[38;5;241m.\u001b[39minput_data[index]\n\u001b[0;32m--> 112\u001b[0m out \u001b[38;5;241m=\u001b[39m \u001b[38;5;28;43mself\u001b[39;49m\u001b[38;5;241;43m.\u001b[39;49m\u001b[43mnode_sampler\u001b[49m\u001b[38;5;241;43m.\u001b[39;49m\u001b[43msample_from_nodes\u001b[49m\u001b[43m(\u001b[49m\u001b[43minput_data\u001b[49m\u001b[43m)\u001b[49m\n\u001b[1;32m    114\u001b[0m \u001b[38;5;28;01mif\u001b[39;00m \u001b[38;5;28mself\u001b[39m\u001b[38;5;241m.\u001b[39mfilter_per_worker:  \u001b[38;5;66;03m# Execute `filter_fn` in the worker process\u001b[39;00m\n\u001b[1;32m    115\u001b[0m     out \u001b[38;5;241m=\u001b[39m \u001b[38;5;28mself\u001b[39m\u001b[38;5;241m.\u001b[39mfilter_fn(out)\n",
      "File \u001b[0;32m~/.pyenv/versions/3.8.12/envs/torch/lib/python3.8/site-packages/torch_geometric/sampler/neighbor_sampler.py:336\u001b[0m, in \u001b[0;36mNeighborSampler.sample_from_nodes\u001b[0;34m(self, index, **kwargs)\u001b[0m\n\u001b[1;32m    331\u001b[0m \u001b[38;5;28;01mdef\u001b[39;00m \u001b[38;5;21msample_from_nodes\u001b[39m(\n\u001b[1;32m    332\u001b[0m     \u001b[38;5;28mself\u001b[39m,\n\u001b[1;32m    333\u001b[0m     index: NodeSamplerInput,\n\u001b[1;32m    334\u001b[0m     \u001b[38;5;241m*\u001b[39m\u001b[38;5;241m*\u001b[39mkwargs,\n\u001b[1;32m    335\u001b[0m ) \u001b[38;5;241m-\u001b[39m\u001b[38;5;241m>\u001b[39m Union[SamplerOutput, HeteroSamplerOutput]:\n\u001b[0;32m--> 336\u001b[0m     \u001b[38;5;28;01mreturn\u001b[39;00m \u001b[43mnode_sample\u001b[49m\u001b[43m(\u001b[49m\u001b[43mindex\u001b[49m\u001b[43m,\u001b[49m\u001b[43m \u001b[49m\u001b[38;5;28;43mself\u001b[39;49m\u001b[38;5;241;43m.\u001b[39;49m\u001b[43m_sample\u001b[49m\u001b[43m,\u001b[49m\u001b[43m \u001b[49m\u001b[38;5;28;43mself\u001b[39;49m\u001b[38;5;241;43m.\u001b[39;49m\u001b[43minput_type\u001b[49m\u001b[43m,\u001b[49m\u001b[43m \u001b[49m\u001b[38;5;241;43m*\u001b[39;49m\u001b[38;5;241;43m*\u001b[39;49m\u001b[43mkwargs\u001b[49m\u001b[43m)\u001b[49m\n",
      "File \u001b[0;32m~/.pyenv/versions/3.8.12/envs/torch/lib/python3.8/site-packages/torch_geometric/sampler/neighbor_sampler.py:375\u001b[0m, in \u001b[0;36mnode_sample\u001b[0;34m(index, sample_fn, input_type, **kwargs)\u001b[0m\n\u001b[1;32m    373\u001b[0m     \u001b[38;5;28;01mif\u001b[39;00m input_time \u001b[38;5;129;01mis\u001b[39;00m \u001b[38;5;129;01mnot\u001b[39;00m \u001b[38;5;28;01mNone\u001b[39;00m:\n\u001b[1;32m    374\u001b[0m         seed_time_dict \u001b[38;5;241m=\u001b[39m {input_type: input_time}\n\u001b[0;32m--> 375\u001b[0m     output \u001b[38;5;241m=\u001b[39m \u001b[43msample_fn\u001b[49m\u001b[43m(\u001b[49m\u001b[43mseed\u001b[49m\u001b[38;5;241;43m=\u001b[39;49m\u001b[43m{\u001b[49m\u001b[43minput_type\u001b[49m\u001b[43m:\u001b[49m\u001b[43m \u001b[49m\u001b[43minput_nodes\u001b[49m\u001b[43m}\u001b[49m\u001b[43m,\u001b[49m\n\u001b[1;32m    376\u001b[0m \u001b[43m                       \u001b[49m\u001b[43mseed_time_dict\u001b[49m\u001b[38;5;241;43m=\u001b[39;49m\u001b[43mseed_time_dict\u001b[49m\u001b[43m)\u001b[49m\n\u001b[1;32m    377\u001b[0m     output\u001b[38;5;241m.\u001b[39mmetadata \u001b[38;5;241m=\u001b[39m index\n\u001b[1;32m    379\u001b[0m \u001b[38;5;28;01melse\u001b[39;00m:\n\u001b[1;32m    380\u001b[0m     \u001b[38;5;66;03m# Homogeneous sampling:\u001b[39;00m\n",
      "File \u001b[0;32m~/.pyenv/versions/3.8.12/envs/torch/lib/python3.8/site-packages/torch_geometric/sampler/neighbor_sampler.py:258\u001b[0m, in \u001b[0;36mNeighborSampler._sample\u001b[0;34m(self, seed, **kwargs)\u001b[0m\n\u001b[1;32m    253\u001b[0m     \u001b[38;5;28;01mif\u001b[39;00m \u001b[38;5;28mself\u001b[39m\u001b[38;5;241m.\u001b[39mdisjoint:\n\u001b[1;32m    254\u001b[0m         \u001b[38;5;28;01mraise\u001b[39;00m \u001b[38;5;167;01mValueError\u001b[39;00m(\u001b[38;5;124m\"\u001b[39m\u001b[38;5;124m'\u001b[39m\u001b[38;5;124mdisjoint\u001b[39m\u001b[38;5;124m'\u001b[39m\u001b[38;5;124m sampling not supported for \u001b[39m\u001b[38;5;124m\"\u001b[39m\n\u001b[1;32m    255\u001b[0m                          \u001b[38;5;124m\"\u001b[39m\u001b[38;5;124mneighbor sampling via \u001b[39m\u001b[38;5;124m'\u001b[39m\u001b[38;5;124mtorch-sparse\u001b[39m\u001b[38;5;124m'\u001b[39m\u001b[38;5;124m. \u001b[39m\u001b[38;5;124m\"\u001b[39m\n\u001b[1;32m    256\u001b[0m                          \u001b[38;5;124m\"\u001b[39m\u001b[38;5;124mPlease install \u001b[39m\u001b[38;5;124m'\u001b[39m\u001b[38;5;124mpyg-lib\u001b[39m\u001b[38;5;124m'\u001b[39m\u001b[38;5;124m for improved \u001b[39m\u001b[38;5;124m\"\u001b[39m\n\u001b[1;32m    257\u001b[0m                          \u001b[38;5;124m\"\u001b[39m\u001b[38;5;124mand optimized sampling routines.\u001b[39m\u001b[38;5;124m\"\u001b[39m)\n\u001b[0;32m--> 258\u001b[0m     out \u001b[38;5;241m=\u001b[39m \u001b[43mtorch\u001b[49m\u001b[38;5;241;43m.\u001b[39;49m\u001b[43mops\u001b[49m\u001b[38;5;241;43m.\u001b[39;49m\u001b[43mtorch_sparse\u001b[49m\u001b[38;5;241;43m.\u001b[39;49m\u001b[43mhetero_neighbor_sample\u001b[49m\u001b[43m(\u001b[49m\n\u001b[1;32m    259\u001b[0m \u001b[43m        \u001b[49m\u001b[38;5;28;43mself\u001b[39;49m\u001b[38;5;241;43m.\u001b[39;49m\u001b[43mnode_types\u001b[49m\u001b[43m,\u001b[49m\n\u001b[1;32m    260\u001b[0m \u001b[43m        \u001b[49m\u001b[38;5;28;43mself\u001b[39;49m\u001b[38;5;241;43m.\u001b[39;49m\u001b[43medge_types\u001b[49m\u001b[43m,\u001b[49m\n\u001b[1;32m    261\u001b[0m \u001b[43m        \u001b[49m\u001b[38;5;28;43mself\u001b[39;49m\u001b[38;5;241;43m.\u001b[39;49m\u001b[43mcolptr_dict\u001b[49m\u001b[43m,\u001b[49m\n\u001b[1;32m    262\u001b[0m \u001b[43m        \u001b[49m\u001b[38;5;28;43mself\u001b[39;49m\u001b[38;5;241;43m.\u001b[39;49m\u001b[43mrow_dict\u001b[49m\u001b[43m,\u001b[49m\n\u001b[1;32m    263\u001b[0m \u001b[43m        \u001b[49m\u001b[43mseed\u001b[49m\u001b[43m,\u001b[49m\u001b[43m  \u001b[49m\u001b[38;5;66;43;03m# seed_dict\u001b[39;49;00m\n\u001b[1;32m    264\u001b[0m \u001b[43m        \u001b[49m\u001b[38;5;28;43mself\u001b[39;49m\u001b[38;5;241;43m.\u001b[39;49m\u001b[43mnum_neighbors\u001b[49m\u001b[43m,\u001b[49m\n\u001b[1;32m    265\u001b[0m \u001b[43m        \u001b[49m\u001b[38;5;28;43mself\u001b[39;49m\u001b[38;5;241;43m.\u001b[39;49m\u001b[43mnum_hops\u001b[49m\u001b[43m,\u001b[49m\n\u001b[1;32m    266\u001b[0m \u001b[43m        \u001b[49m\u001b[38;5;28;43mself\u001b[39;49m\u001b[38;5;241;43m.\u001b[39;49m\u001b[43mreplace\u001b[49m\u001b[43m,\u001b[49m\n\u001b[1;32m    267\u001b[0m \u001b[43m        \u001b[49m\u001b[38;5;28;43mself\u001b[39;49m\u001b[38;5;241;43m.\u001b[39;49m\u001b[43mdirected\u001b[49m\u001b[43m,\u001b[49m\n\u001b[1;32m    268\u001b[0m \u001b[43m    \u001b[49m\u001b[43m)\u001b[49m\n\u001b[1;32m    269\u001b[0m     node, row, col, edge, batch \u001b[38;5;241m=\u001b[39m out \u001b[38;5;241m+\u001b[39m (\u001b[38;5;28;01mNone\u001b[39;00m, )\n\u001b[1;32m    271\u001b[0m \u001b[38;5;28;01mreturn\u001b[39;00m HeteroSamplerOutput(\n\u001b[1;32m    272\u001b[0m     node\u001b[38;5;241m=\u001b[39mnode,\n\u001b[1;32m    273\u001b[0m     row\u001b[38;5;241m=\u001b[39mremap_keys(row, \u001b[38;5;28mself\u001b[39m\u001b[38;5;241m.\u001b[39mto_edge_type),\n\u001b[0;32m   (...)\u001b[0m\n\u001b[1;32m    276\u001b[0m     batch\u001b[38;5;241m=\u001b[39mbatch,\n\u001b[1;32m    277\u001b[0m )\n",
      "File \u001b[0;32m~/.pyenv/versions/3.8.12/envs/torch/lib/python3.8/site-packages/torch/_ops.py:442\u001b[0m, in \u001b[0;36mOpOverloadPacket.__call__\u001b[0;34m(self, *args, **kwargs)\u001b[0m\n\u001b[1;32m    437\u001b[0m \u001b[38;5;28;01mdef\u001b[39;00m \u001b[38;5;21m__call__\u001b[39m(\u001b[38;5;28mself\u001b[39m, \u001b[38;5;241m*\u001b[39margs, \u001b[38;5;241m*\u001b[39m\u001b[38;5;241m*\u001b[39mkwargs):\n\u001b[1;32m    438\u001b[0m     \u001b[38;5;66;03m# overloading __call__ to ensure torch.ops.foo.bar()\u001b[39;00m\n\u001b[1;32m    439\u001b[0m     \u001b[38;5;66;03m# is still callable from JIT\u001b[39;00m\n\u001b[1;32m    440\u001b[0m     \u001b[38;5;66;03m# We save the function ptr as the `op` attribute on\u001b[39;00m\n\u001b[1;32m    441\u001b[0m     \u001b[38;5;66;03m# OpOverloadPacket to access it here.\u001b[39;00m\n\u001b[0;32m--> 442\u001b[0m     \u001b[38;5;28;01mreturn\u001b[39;00m \u001b[38;5;28;43mself\u001b[39;49m\u001b[38;5;241;43m.\u001b[39;49m\u001b[43m_op\u001b[49m\u001b[43m(\u001b[49m\u001b[38;5;241;43m*\u001b[39;49m\u001b[43margs\u001b[49m\u001b[43m,\u001b[49m\u001b[43m \u001b[49m\u001b[38;5;241;43m*\u001b[39;49m\u001b[38;5;241;43m*\u001b[39;49m\u001b[43mkwargs\u001b[49m\u001b[43m \u001b[49m\u001b[38;5;129;43;01mor\u001b[39;49;00m\u001b[43m \u001b[49m\u001b[43m{\u001b[49m\u001b[43m}\u001b[49m\u001b[43m)\u001b[49m\n",
      "\u001b[0;31mIndexError\u001b[0m: phmap at(): lookup non-existent key"
     ]
    }
   ],
   "source": [
    "# Feature store - heterogenous\n",
    "feature_store = MyFeatureStore()\n",
    "tensor_a = torch.Tensor([[0, 0, 0], [1, 1, 1], [2, 2, 2]])\n",
    "tensor_b = torch.Tensor([[0, 0, 0], [1, 1, 1], [2, 2, 2]])\n",
    "\n",
    "\n",
    "group_name_a = 'A'\n",
    "attr_name_a = 'feat_a'\n",
    "group_name_b = 'B'\n",
    "attr_name_b = 'feat_b'\n",
    "\n",
    "index_a = torch.tensor([0, 1, 2])\n",
    "index_b = torch.tensor([0, 1, 2])\n",
    "attr_a = TensorAttr(group_name_a, attr_name_a, index_a)\n",
    "attr_b = TensorAttr(group_name_b, attr_name_b, index_b)\n",
    "\n",
    "\n",
    "feature_store.put_tensor(tensor_a, attr_a)\n",
    "feature_store.put_tensor(tensor_b, attr_b)\n",
    "\n",
    "# Graph store - heterogenous\n",
    "graph_store = MyGraphStore()\n",
    "edge_index_ab = torch.LongTensor([(0, 1), (1, 2), (2,0),(0,2)])\n",
    "#adj = SparseTensor(row=edge_index_ab[0], col=edge_index_ab[1])\n",
    "coo = (edge_index_ab[0], edge_index_ab[1])\n",
    "\n",
    "\n",
    "edge_attr_ab = torch_geometric.data.graph_store.EdgeAttr(\n",
    "    edge_type = (\"A\",\"link_name_ab\",\"B\"),\n",
    "    layout = \"csr\",\n",
    "    is_sorted = False,\n",
    "    size = (2,2))\n",
    "\n",
    "\n",
    "graph_store.put_edge_index(edge_index = coo,\n",
    "                           edge_type=('A', '1', 'B'),\n",
    "                            layout='coo', \n",
    "                            size=(2, 2),\n",
    "                           is_sorted=False\n",
    "                          )\n",
    "\n",
    "\n",
    "node_sampler = torch_geometric.sampler.NeighborSampler((feature_store,graph_store), num_neighbors=[1],input_type=\"csr\")\n",
    "\n",
    "\n",
    "loader = torch_geometric.loader.NodeLoader(\n",
    "    data=(feature_store, graph_store),\n",
    "    node_sampler=node_sampler,\n",
    "    batch_size=1,\n",
    "    input_nodes='A',\n",
    ")\n",
    "\n",
    "for batch in loader:\n",
    "    pass"
   ]
  },
  {
   "cell_type": "code",
   "execution_count": null,
   "id": "4a9bf1ad-c8d6-4521-9ba6-f919962d5c22",
   "metadata": {},
   "outputs": [],
   "source": []
  },
  {
   "cell_type": "code",
   "execution_count": 225,
   "id": "7b3b30e4-86ce-4f1c-9213-035264134c94",
   "metadata": {
    "tags": []
   },
   "outputs": [],
   "source": [
    "# Feature store\n",
    "feature_store = MyFeatureStore()\n",
    "tensor_a = torch.Tensor([[0, 0, 0], [1, 1, 1], [2, 2, 2]])\n",
    "tensor_b = torch.Tensor([[0, 0, 0], [1, 1, 1], [2, 2, 2]])\n",
    "\n",
    "\n",
    "group_name = 'A'\n",
    "attr_name_a = 'feat_a'\n",
    "attr_name_b = 'feat_b'\n",
    "\n",
    "index_a = torch.tensor([0, 1, 2])\n",
    "index_b = torch.tensor([0, 1, 2])\n",
    "attr_a = TensorAttr(group_name, attr_name_a, index_a)\n",
    "attr_b = TensorAttr(group_name, attr_name_b, index_b)\n",
    "\n",
    "\n",
    "feature_store.put_tensor(tensor_a, attr_a)\n",
    "\n",
    "# Graph store\n",
    "graph_store = MyGraphStore()\n",
    "edge_index = torch.LongTensor([(0, 1), (1, 2)])\n",
    "adj = SparseTensor(row=edge_index[0], col=edge_index[1])\n",
    "\n",
    "\n",
    "# likely only need one of the methods?\n",
    "coo = adj.coo()[:-1]\n",
    "csr = adj.csr()[:-1]\n",
    "csc = adj.csc()[-2::-1] \n",
    "\n",
    "graph_store['edge', torch_geometric.data.graph_store.EdgeLayout.COO] = coo\n",
    "graph_store['edge', 'csr'] = csr\n",
    "graph_store['edge', 'csc'] = csc\n",
    "\n",
    "# Nodesampler (can implement your own)\n",
    "# It is likely heterogenous - whereas the graph is maybe homogenious \n",
    "node_sampler = torch_geometric.sampler.NeighborSampler((feature_store,graph_store), num_neighbors=[1],input_type='csc')\n",
    "\n",
    "\n",
    "loader = torch_geometric.loader.NodeLoader(\n",
    "    data=(feature_store, graph_store),\n",
    "    node_sampler=node_sampler,\n",
    "    batch_size=1,\n",
    "    input_nodes='A',\n",
    ")\n",
    "\n",
    "\n",
    "# for batch in loader:\n",
    "#     pass\n"
   ]
  },
  {
   "cell_type": "code",
   "execution_count": 219,
   "id": "e5c83915-d0df-4838-8481-752927af61fb",
   "metadata": {
    "tags": []
   },
   "outputs": [
    {
     "data": {
      "text/plain": [
       "[EdgeAttr(edge_type='edge', layout=<EdgeLayout.COO: 'coo'>, is_sorted=False, size=None),\n",
       " EdgeAttr(edge_type='edge', layout=<EdgeLayout.CSR: 'csr'>, is_sorted=True, size=None),\n",
       " EdgeAttr(edge_type='edge', layout=<EdgeLayout.CSC: 'csc'>, is_sorted=True, size=None)]"
      ]
     },
     "execution_count": 219,
     "metadata": {},
     "output_type": "execute_result"
    }
   ],
   "source": [
    "graph_store.get_all_edge_attrs()"
   ]
  },
  {
   "cell_type": "code",
   "execution_count": null,
   "id": "beb1dc2a-4e32-4585-80f8-338c4e704ae2",
   "metadata": {},
   "outputs": [],
   "source": [
    "for batch in loader"
   ]
  },
  {
   "cell_type": "code",
   "execution_count": 191,
   "id": "57182f1e-ef0c-4fa1-a47c-38d5a39ec970",
   "metadata": {
    "tags": []
   },
   "outputs": [],
   "source": [
    "class GCN(torch.nn.Module):\n",
    "    def __init__(self):\n",
    "        super().__init__()\n",
    "        self.conv1 = GCNConv(dataset.num_node_features, 16)\n",
    "        self.conv2 = GCNConv(16, dataset.num_classes)\n",
    "\n",
    "    def forward(self, data):\n",
    "        x, edge_index = data.x, data.edge_index\n",
    "\n",
    "        x = self.conv1(x, edge_index)\n",
    "        x = F.relu(x)\n",
    "        x = F.dropout(x, training=self.training)\n",
    "        x = self.conv2(x, edge_index)\n",
    "\n",
    "        return F.log_softmax(x, dim=1)"
   ]
  },
  {
   "cell_type": "code",
   "execution_count": 192,
   "id": "a06a2884-acf1-43b3-8885-fad7f66ff44e",
   "metadata": {
    "tags": []
   },
   "outputs": [
    {
     "ename": "AttributeError",
     "evalue": "'NodeLoader' object has no attribute 'to'",
     "output_type": "error",
     "traceback": [
      "\u001b[0;31m---------------------------------------------------------------------------\u001b[0m",
      "\u001b[0;31mAttributeError\u001b[0m                            Traceback (most recent call last)",
      "Cell \u001b[0;32mIn[192], line 3\u001b[0m\n\u001b[1;32m      1\u001b[0m device \u001b[38;5;241m=\u001b[39m torch\u001b[38;5;241m.\u001b[39mdevice(\u001b[38;5;124m'\u001b[39m\u001b[38;5;124mcuda\u001b[39m\u001b[38;5;124m'\u001b[39m \u001b[38;5;28;01mif\u001b[39;00m torch\u001b[38;5;241m.\u001b[39mcuda\u001b[38;5;241m.\u001b[39mis_available() \u001b[38;5;28;01melse\u001b[39;00m \u001b[38;5;124m'\u001b[39m\u001b[38;5;124mcpu\u001b[39m\u001b[38;5;124m'\u001b[39m)\n\u001b[1;32m      2\u001b[0m model \u001b[38;5;241m=\u001b[39m GCN()\u001b[38;5;241m.\u001b[39mto(device)\n\u001b[0;32m----> 3\u001b[0m data \u001b[38;5;241m=\u001b[39m \u001b[43mloader\u001b[49m\u001b[38;5;241;43m.\u001b[39;49m\u001b[43mto\u001b[49m(device)\n\u001b[1;32m      4\u001b[0m optimizer \u001b[38;5;241m=\u001b[39m torch\u001b[38;5;241m.\u001b[39moptim\u001b[38;5;241m.\u001b[39mAdam(model\u001b[38;5;241m.\u001b[39mparameters(), lr\u001b[38;5;241m=\u001b[39m\u001b[38;5;241m0.01\u001b[39m, weight_decay\u001b[38;5;241m=\u001b[39m\u001b[38;5;241m5e-4\u001b[39m)\n\u001b[1;32m      6\u001b[0m model\u001b[38;5;241m.\u001b[39mtrain()\n",
      "\u001b[0;31mAttributeError\u001b[0m: 'NodeLoader' object has no attribute 'to'"
     ]
    }
   ],
   "source": [
    "device = torch.device('cuda' if torch.cuda.is_available() else 'cpu')\n",
    "model = GCN().to(device)\n",
    "data = loader.to(device)\n",
    "optimizer = torch.optim.Adam(model.parameters(), lr=0.01, weight_decay=5e-4)\n",
    "\n",
    "model.train()\n",
    "for epoch in range(200):\n",
    "    optimizer.zero_grad()\n",
    "    out = model(data)\n",
    "    loss = F.nll_loss(out[data.train_mask], data.y[data.train_mask])\n",
    "    loss.backward()\n",
    "    optimizer.step()"
   ]
  },
  {
   "cell_type": "code",
   "execution_count": null,
   "id": "6405be60-819a-4756-9da4-30ad0e71f104",
   "metadata": {},
   "outputs": [],
   "source": []
  },
  {
   "cell_type": "code",
   "execution_count": 150,
   "id": "d199745c-464d-4e2e-8d50-43a0e59f40c3",
   "metadata": {
    "tags": []
   },
   "outputs": [],
   "source": [
    "assert torch.equal(store[group_name, attr_name, index], tensor)\n",
    "assert torch.equal(store[group_name, attr_name, None], tensor)\n",
    "assert torch.equal(store[group_name, attr_name, :], tensor)\n",
    "assert torch.equal(store[group_name][attr_name][:], tensor)\n",
    "assert torch.equal(store[group_name].feat[:], tensor)\n",
    "assert torch.equal(store.view().A.feat[:], tensor)"
   ]
  },
  {
   "cell_type": "code",
   "execution_count": 146,
   "id": "8895cbca-348b-4cba-9f97-c296d04e6c27",
   "metadata": {
    "tags": []
   },
   "outputs": [
    {
     "ename": "TypeError",
     "evalue": "equal(): argument 'input' (position 1) must be Tensor, not AttrView",
     "output_type": "error",
     "traceback": [
      "\u001b[0;31m---------------------------------------------------------------------------\u001b[0m",
      "\u001b[0;31mTypeError\u001b[0m                                 Traceback (most recent call last)",
      "Cell \u001b[0;32mIn[146], line 24\u001b[0m\n\u001b[1;32m     21\u001b[0m feature_store[\u001b[38;5;124m'\u001b[39m\u001b[38;5;124mpaper\u001b[39m\u001b[38;5;124m'\u001b[39m, \u001b[38;5;124m'\u001b[39m\u001b[38;5;124mx\u001b[39m\u001b[38;5;124m'\u001b[39m, \u001b[38;5;28;01mNone\u001b[39;00m] \u001b[38;5;241m=\u001b[39m paper_features\n\u001b[1;32m     22\u001b[0m feature_store[\u001b[38;5;124m'\u001b[39m\u001b[38;5;124mauthor\u001b[39m\u001b[38;5;124m'\u001b[39m, \u001b[38;5;124m'\u001b[39m\u001b[38;5;124mx\u001b[39m\u001b[38;5;124m'\u001b[39m, \u001b[38;5;28;01mNone\u001b[39;00m] \u001b[38;5;241m=\u001b[39m author_features\n\u001b[0;32m---> 24\u001b[0m \u001b[38;5;28;01massert\u001b[39;00m \u001b[43mtorch\u001b[49m\u001b[38;5;241;43m.\u001b[39;49m\u001b[43mequal\u001b[49m\u001b[43m(\u001b[49m\u001b[43mfeature_store\u001b[49m\u001b[43m[\u001b[49m\u001b[38;5;124;43m'\u001b[39;49m\u001b[38;5;124;43mpaper\u001b[39;49m\u001b[38;5;124;43m'\u001b[39;49m\u001b[43m,\u001b[49m\u001b[43m \u001b[49m\u001b[38;5;124;43m'\u001b[39;49m\u001b[38;5;124;43mx\u001b[39;49m\u001b[38;5;124;43m'\u001b[39;49m\u001b[43m]\u001b[49m\u001b[43m,\u001b[49m\u001b[43m \u001b[49m\u001b[43mpaper_features\u001b[49m\u001b[43m)\u001b[49m\n\u001b[1;32m     25\u001b[0m \u001b[38;5;28;01massert\u001b[39;00m torch\u001b[38;5;241m.\u001b[39mequal(feature_store[\u001b[38;5;124m'\u001b[39m\u001b[38;5;124mpaper\u001b[39m\u001b[38;5;124m'\u001b[39m]\u001b[38;5;241m.\u001b[39mx, paper_features)\n\u001b[1;32m     26\u001b[0m \u001b[38;5;28;01massert\u001b[39;00m torch\u001b[38;5;241m.\u001b[39mequal(feature_store[\u001b[38;5;124m'\u001b[39m\u001b[38;5;124mauthor\u001b[39m\u001b[38;5;124m'\u001b[39m, \u001b[38;5;124m'\u001b[39m\u001b[38;5;124mx\u001b[39m\u001b[38;5;124m'\u001b[39m, \u001b[38;5;241m0\u001b[39m:\u001b[38;5;241m5\u001b[39m], author_features[\u001b[38;5;241m0\u001b[39m:\u001b[38;5;241m5\u001b[39m])\n",
      "\u001b[0;31mTypeError\u001b[0m: equal(): argument 'input' (position 1) must be Tensor, not AttrView"
     ]
    }
   ],
   "source": [
    "\n",
    "# Generate edge and node features\n",
    "edges_index = erdos_renyi_graph(num_nodes=10, edge_prob=0.5)\n",
    "\n",
    "paper_features = torch.tensor([[0],[1],[2],[3],[4], [5],[6],[7],[8],[9]\n",
    "                             ], dtype=torch.long)\n",
    "author_features = torch.tensor([[3],[3],[3],[1],[1],[1],[1],[2],[2],[2]\n",
    "                             ], dtype=torch.long)\n",
    "\n",
    "\n",
    "\n",
    "# node_features = torch.tensor([[0],[1],[2],[3],[4], [5],[6],[7],[8],[9]\n",
    "#                              ], dtype=torch.long)\n",
    "\n",
    "# initiate stores\n",
    "feature_store = MyFeatureStore()\n",
    "graph_store = MyGraphStore()\n",
    "\n",
    "\n",
    "# Add features and edges to stores\n",
    "feature_store = MyFeatureStore()\n",
    "feature_store['paper', 'x', None] = paper_features\n",
    "feature_store['author', 'x', None] = author_features\n",
    "\n",
    "assert torch.equal(feature_store['paper', 'x'], paper_features)\n",
    "assert torch.equal(feature_store['paper'].x, paper_features)\n",
    "assert torch.equal(feature_store['author', 'x', 0:5], author_features[0:5])\n",
    "\n",
    "\n",
    "graph_store['edge','coo'] = edge_index\n",
    "\n",
    "row, col = graph_store['edge', 'coo']\n",
    "\n",
    "# checks out\n",
    "assert torch.equal(row, edge_index[0]) \n",
    "assert torch.equal(col, edge_index[1])\n",
    "\n",
    "\n",
    "# initiate sampler\n",
    "#node_sampler = torch_geometric.sampler.NeighborSampler((feature_store,graph_store), num_neighbors=[3],input_type=['coo'])\n",
    "\n",
    "\n"
   ]
  },
  {
   "cell_type": "code",
   "execution_count": 136,
   "id": "3396d665-0b99-4609-9f65-1ec7991a2d12",
   "metadata": {
    "tags": []
   },
   "outputs": [
    {
     "data": {
      "text/plain": [
       "MyGraphStore()"
      ]
     },
     "execution_count": 136,
     "metadata": {},
     "output_type": "execute_result"
    }
   ],
   "source": [
    "graph_store."
   ]
  },
  {
   "cell_type": "code",
   "execution_count": 113,
   "id": "7168b255-a040-4f33-82d8-d8ce4dde3dd5",
   "metadata": {
    "tags": []
   },
   "outputs": [],
   "source": []
  },
  {
   "cell_type": "code",
   "execution_count": 115,
   "id": "1e0d3864-038a-413d-83c6-048d43ff8db0",
   "metadata": {
    "tags": []
   },
   "outputs": [],
   "source": [
    "torch.manual_seed(12345)\n",
    "edge_index = erdos_renyi_graph(num_nodes=10, edge_prob=0.5)\n",
    "E = edge_index.size(1)\n",
    "\n",
    "loader = NeighborSampler(edge_index, sizes=[2, 4], batch_size=2)"
   ]
  },
  {
   "cell_type": "code",
   "execution_count": 118,
   "id": "8b4a7ee6-2652-4945-ad23-5c29cc94cb3a",
   "metadata": {
    "tags": []
   },
   "outputs": [
    {
     "ename": "AttributeError",
     "evalue": "'tuple' object has no attribute 'to'",
     "output_type": "error",
     "traceback": [
      "\u001b[0;31m---------------------------------------------------------------------------\u001b[0m",
      "\u001b[0;31mAttributeError\u001b[0m                            Traceback (most recent call last)",
      "Cell \u001b[0;32mIn[118], line 1\u001b[0m\n\u001b[0;32m----> 1\u001b[0m \u001b[43mNeighborSampler\u001b[49m\u001b[43m(\u001b[49m\u001b[43m(\u001b[49m\u001b[43mfeature_store\u001b[49m\u001b[43m,\u001b[49m\u001b[43mgraph_store\u001b[49m\u001b[43m)\u001b[49m\u001b[43m,\u001b[49m\u001b[43m \u001b[49m\u001b[43msizes\u001b[49m\u001b[38;5;241;43m=\u001b[39;49m\u001b[43m[\u001b[49m\u001b[38;5;241;43m2\u001b[39;49m\u001b[43m]\u001b[49m\u001b[43m)\u001b[49m\n",
      "File \u001b[0;32m~/.pyenv/versions/3.8.12/envs/torch/lib/python3.8/site-packages/torch_geometric/loader/neighbor_sampler.py:117\u001b[0m, in \u001b[0;36mNeighborSampler.__init__\u001b[0;34m(self, edge_index, sizes, node_idx, num_nodes, return_e_id, transform, **kwargs)\u001b[0m\n\u001b[1;32m    112\u001b[0m \u001b[38;5;28;01mdef\u001b[39;00m \u001b[38;5;21m__init__\u001b[39m(\u001b[38;5;28mself\u001b[39m, edge_index: Union[Tensor, SparseTensor],\n\u001b[1;32m    113\u001b[0m              sizes: List[\u001b[38;5;28mint\u001b[39m], node_idx: Optional[Tensor] \u001b[38;5;241m=\u001b[39m \u001b[38;5;28;01mNone\u001b[39;00m,\n\u001b[1;32m    114\u001b[0m              num_nodes: Optional[\u001b[38;5;28mint\u001b[39m] \u001b[38;5;241m=\u001b[39m \u001b[38;5;28;01mNone\u001b[39;00m, return_e_id: \u001b[38;5;28mbool\u001b[39m \u001b[38;5;241m=\u001b[39m \u001b[38;5;28;01mTrue\u001b[39;00m,\n\u001b[1;32m    115\u001b[0m              transform: Callable \u001b[38;5;241m=\u001b[39m \u001b[38;5;28;01mNone\u001b[39;00m, \u001b[38;5;241m*\u001b[39m\u001b[38;5;241m*\u001b[39mkwargs):\n\u001b[0;32m--> 117\u001b[0m     edge_index \u001b[38;5;241m=\u001b[39m \u001b[43medge_index\u001b[49m\u001b[38;5;241;43m.\u001b[39;49m\u001b[43mto\u001b[49m(\u001b[38;5;124m'\u001b[39m\u001b[38;5;124mcpu\u001b[39m\u001b[38;5;124m'\u001b[39m)\n\u001b[1;32m    119\u001b[0m     \u001b[38;5;28;01mif\u001b[39;00m \u001b[38;5;124m'\u001b[39m\u001b[38;5;124mcollate_fn\u001b[39m\u001b[38;5;124m'\u001b[39m \u001b[38;5;129;01min\u001b[39;00m kwargs:\n\u001b[1;32m    120\u001b[0m         \u001b[38;5;28;01mdel\u001b[39;00m kwargs[\u001b[38;5;124m'\u001b[39m\u001b[38;5;124mcollate_fn\u001b[39m\u001b[38;5;124m'\u001b[39m]\n",
      "\u001b[0;31mAttributeError\u001b[0m: 'tuple' object has no attribute 'to'"
     ]
    }
   ],
   "source": [
    "NeighborSampler((feature_store,graph_store), sizes=[2])"
   ]
  },
  {
   "cell_type": "code",
   "execution_count": 87,
   "id": "cd01ea95-5585-4a4a-a2da-24ed86f45c50",
   "metadata": {
    "tags": []
   },
   "outputs": [
    {
     "data": {
      "text/plain": [
       "\u001b[0;31mInit signature:\u001b[0m\n",
       "\u001b[0mNeighborSampler\u001b[0m\u001b[0;34m(\u001b[0m\u001b[0;34m\u001b[0m\n",
       "\u001b[0;34m\u001b[0m    \u001b[0mdata\u001b[0m\u001b[0;34m:\u001b[0m \u001b[0mUnion\u001b[0m\u001b[0;34m[\u001b[0m\u001b[0mtorch_geometric\u001b[0m\u001b[0;34m.\u001b[0m\u001b[0mdata\u001b[0m\u001b[0;34m.\u001b[0m\u001b[0mdata\u001b[0m\u001b[0;34m.\u001b[0m\u001b[0mData\u001b[0m\u001b[0;34m,\u001b[0m \u001b[0mtorch_geometric\u001b[0m\u001b[0;34m.\u001b[0m\u001b[0mdata\u001b[0m\u001b[0;34m.\u001b[0m\u001b[0mhetero_data\u001b[0m\u001b[0;34m.\u001b[0m\u001b[0mHeteroData\u001b[0m\u001b[0;34m,\u001b[0m \u001b[0mTuple\u001b[0m\u001b[0;34m[\u001b[0m\u001b[0mtorch_geometric\u001b[0m\u001b[0;34m.\u001b[0m\u001b[0mdata\u001b[0m\u001b[0;34m.\u001b[0m\u001b[0mfeature_store\u001b[0m\u001b[0;34m.\u001b[0m\u001b[0mFeatureStore\u001b[0m\u001b[0;34m,\u001b[0m \u001b[0mtorch_geometric\u001b[0m\u001b[0;34m.\u001b[0m\u001b[0mdata\u001b[0m\u001b[0;34m.\u001b[0m\u001b[0mgraph_store\u001b[0m\u001b[0;34m.\u001b[0m\u001b[0mGraphStore\u001b[0m\u001b[0;34m]\u001b[0m\u001b[0;34m]\u001b[0m\u001b[0;34m,\u001b[0m\u001b[0;34m\u001b[0m\n",
       "\u001b[0;34m\u001b[0m    \u001b[0mnum_neighbors\u001b[0m\u001b[0;34m:\u001b[0m \u001b[0mUnion\u001b[0m\u001b[0;34m[\u001b[0m\u001b[0mList\u001b[0m\u001b[0;34m[\u001b[0m\u001b[0mint\u001b[0m\u001b[0;34m]\u001b[0m\u001b[0;34m,\u001b[0m \u001b[0mDict\u001b[0m\u001b[0;34m[\u001b[0m\u001b[0mTuple\u001b[0m\u001b[0;34m[\u001b[0m\u001b[0mstr\u001b[0m\u001b[0;34m,\u001b[0m \u001b[0mstr\u001b[0m\u001b[0;34m,\u001b[0m \u001b[0mstr\u001b[0m\u001b[0;34m]\u001b[0m\u001b[0;34m,\u001b[0m \u001b[0mList\u001b[0m\u001b[0;34m[\u001b[0m\u001b[0mint\u001b[0m\u001b[0;34m]\u001b[0m\u001b[0;34m]\u001b[0m\u001b[0;34m]\u001b[0m\u001b[0;34m,\u001b[0m\u001b[0;34m\u001b[0m\n",
       "\u001b[0;34m\u001b[0m    \u001b[0mreplace\u001b[0m\u001b[0;34m:\u001b[0m \u001b[0mbool\u001b[0m \u001b[0;34m=\u001b[0m \u001b[0;32mFalse\u001b[0m\u001b[0;34m,\u001b[0m\u001b[0;34m\u001b[0m\n",
       "\u001b[0;34m\u001b[0m    \u001b[0mdirected\u001b[0m\u001b[0;34m:\u001b[0m \u001b[0mbool\u001b[0m \u001b[0;34m=\u001b[0m \u001b[0;32mTrue\u001b[0m\u001b[0;34m,\u001b[0m\u001b[0;34m\u001b[0m\n",
       "\u001b[0;34m\u001b[0m    \u001b[0mdisjoint\u001b[0m\u001b[0;34m:\u001b[0m \u001b[0mbool\u001b[0m \u001b[0;34m=\u001b[0m \u001b[0;32mFalse\u001b[0m\u001b[0;34m,\u001b[0m\u001b[0;34m\u001b[0m\n",
       "\u001b[0;34m\u001b[0m    \u001b[0mtemporal_strategy\u001b[0m\u001b[0;34m:\u001b[0m \u001b[0mstr\u001b[0m \u001b[0;34m=\u001b[0m \u001b[0;34m'uniform'\u001b[0m\u001b[0;34m,\u001b[0m\u001b[0;34m\u001b[0m\n",
       "\u001b[0;34m\u001b[0m    \u001b[0minput_type\u001b[0m\u001b[0;34m:\u001b[0m \u001b[0mUnion\u001b[0m\u001b[0;34m[\u001b[0m\u001b[0mAny\u001b[0m\u001b[0;34m,\u001b[0m \u001b[0mNoneType\u001b[0m\u001b[0;34m]\u001b[0m \u001b[0;34m=\u001b[0m \u001b[0;32mNone\u001b[0m\u001b[0;34m,\u001b[0m\u001b[0;34m\u001b[0m\n",
       "\u001b[0;34m\u001b[0m    \u001b[0mtime_attr\u001b[0m\u001b[0;34m:\u001b[0m \u001b[0mUnion\u001b[0m\u001b[0;34m[\u001b[0m\u001b[0mstr\u001b[0m\u001b[0;34m,\u001b[0m \u001b[0mNoneType\u001b[0m\u001b[0;34m]\u001b[0m \u001b[0;34m=\u001b[0m \u001b[0;32mNone\u001b[0m\u001b[0;34m,\u001b[0m\u001b[0;34m\u001b[0m\n",
       "\u001b[0;34m\u001b[0m    \u001b[0mis_sorted\u001b[0m\u001b[0;34m:\u001b[0m \u001b[0mbool\u001b[0m \u001b[0;34m=\u001b[0m \u001b[0;32mFalse\u001b[0m\u001b[0;34m,\u001b[0m\u001b[0;34m\u001b[0m\n",
       "\u001b[0;34m\u001b[0m    \u001b[0mshare_memory\u001b[0m\u001b[0;34m:\u001b[0m \u001b[0mbool\u001b[0m \u001b[0;34m=\u001b[0m \u001b[0;32mFalse\u001b[0m\u001b[0;34m,\u001b[0m\u001b[0;34m\u001b[0m\n",
       "\u001b[0;34m\u001b[0m\u001b[0;34m)\u001b[0m\u001b[0;34m\u001b[0m\u001b[0;34m\u001b[0m\u001b[0m\n",
       "\u001b[0;31mDocstring:\u001b[0m     \n",
       "An implementation of an in-memory (heterogeneous) neighbor sampler used\n",
       "by :class:`~torch_geometric.loader.NeighborLoader`.\n",
       "\u001b[0;31mFile:\u001b[0m           ~/.pyenv/versions/3.8.12/envs/torch/lib/python3.8/site-packages/torch_geometric/sampler/neighbor_sampler.py\n",
       "\u001b[0;31mType:\u001b[0m           ABCMeta\n",
       "\u001b[0;31mSubclasses:\u001b[0m     "
      ]
     },
     "metadata": {},
     "output_type": "display_data"
    }
   ],
   "source": [
    "NeighborSampler?"
   ]
  },
  {
   "cell_type": "code",
   "execution_count": 77,
   "id": "6545226b-4c82-4029-91f2-371e0a29e01b",
   "metadata": {
    "tags": []
   },
   "outputs": [
    {
     "data": {
      "text/plain": [
       "AttrView(store=MyFeatureStore(), attr=TensorAttr(group_name='paper', attr_name=<FieldStatus.UNSET: 1>, index=<FieldStatus.UNSET: 1>))"
      ]
     },
     "execution_count": 77,
     "metadata": {},
     "output_type": "execute_result"
    }
   ],
   "source": []
  },
  {
   "cell_type": "code",
   "execution_count": 95,
   "id": "b89fd6be-043e-417a-8b3b-ed9241e1df88",
   "metadata": {
    "tags": []
   },
   "outputs": [
    {
     "ename": "NameError",
     "evalue": "name 'node_sampler' is not defined",
     "output_type": "error",
     "traceback": [
      "\u001b[0;31m---------------------------------------------------------------------------\u001b[0m",
      "\u001b[0;31mNameError\u001b[0m                                 Traceback (most recent call last)",
      "Cell \u001b[0;32mIn[95], line 3\u001b[0m\n\u001b[1;32m      1\u001b[0m loader \u001b[38;5;241m=\u001b[39m torch_geometric\u001b[38;5;241m.\u001b[39mloader\u001b[38;5;241m.\u001b[39mNodeLoader(\n\u001b[1;32m      2\u001b[0m     data\u001b[38;5;241m=\u001b[39m(feature_store, graph_store),\n\u001b[0;32m----> 3\u001b[0m     node_sampler\u001b[38;5;241m=\u001b[39m\u001b[43mnode_sampler\u001b[49m,\n\u001b[1;32m      4\u001b[0m     batch_size\u001b[38;5;241m=\u001b[39m\u001b[38;5;241m20\u001b[39m,\n\u001b[1;32m      5\u001b[0m     input_nodes\u001b[38;5;241m=\u001b[39m\u001b[38;5;124m'\u001b[39m\u001b[38;5;124mpaper\u001b[39m\u001b[38;5;124m'\u001b[39m,\n\u001b[1;32m      6\u001b[0m )\n\u001b[1;32m      8\u001b[0m \u001b[38;5;66;03m# for batch in loader:\u001b[39;00m\n\u001b[1;32m      9\u001b[0m \u001b[38;5;66;03m#     pass\u001b[39;00m\n",
      "\u001b[0;31mNameError\u001b[0m: name 'node_sampler' is not defined"
     ]
    }
   ],
   "source": [
    "\n",
    "\n",
    "\n",
    "\n",
    "\n",
    "loader = torch_geometric.loader.NodeLoader(\n",
    "    data=(feature_store, graph_store),\n",
    "    node_sampler=node_sampler,\n",
    "    batch_size=20,\n",
    "    input_nodes='paper',\n",
    ")\n",
    "\n",
    "# for batch in loader:\n",
    "#     pass"
   ]
  },
  {
   "cell_type": "code",
   "execution_count": 92,
   "id": "667d54e4-9519-4da8-94a6-24e2a211e6c5",
   "metadata": {
    "tags": []
   },
   "outputs": [
    {
     "data": {
      "text/plain": [
       "\u001b[0;31mInit signature:\u001b[0m \u001b[0mtorch_geometric\u001b[0m\u001b[0;34m.\u001b[0m\u001b[0mloader\u001b[0m\u001b[0;34m.\u001b[0m\u001b[0mNodeLoader\u001b[0m\u001b[0;34m(\u001b[0m\u001b[0;34m*\u001b[0m\u001b[0margs\u001b[0m\u001b[0;34m,\u001b[0m \u001b[0;34m**\u001b[0m\u001b[0mkwds\u001b[0m\u001b[0;34m)\u001b[0m\u001b[0;34m\u001b[0m\u001b[0;34m\u001b[0m\u001b[0m\n",
       "\u001b[0;31mDocstring:\u001b[0m     \n",
       "A data loader that performs neighbor sampling from node information,\n",
       "using a generic :class:`~torch_geometric.sampler.BaseSampler`\n",
       "implementation that defines a :meth:`sample_from_nodes` function and is\n",
       "supported on the provided input :obj:`data` object.\n",
       "\n",
       "Args:\n",
       "    data (torch_geometric.data.Data or torch_geometric.data.HeteroData):\n",
       "        The :class:`~torch_geometric.data.Data` or\n",
       "        :class:`~torch_geometric.data.HeteroData` graph object.\n",
       "    node_sampler (torch_geometric.sampler.BaseSampler): The sampler\n",
       "        implementation to be used with this loader. Note that the\n",
       "        sampler implementation must be compatible with the input data\n",
       "        object.\n",
       "    input_nodes (torch.Tensor or str or Tuple[str, torch.Tensor]): The\n",
       "        indices of nodes for which neighbors are sampled to create\n",
       "        mini-batches.\n",
       "        Needs to be either given as a :obj:`torch.LongTensor` or\n",
       "        :obj:`torch.BoolTensor`.\n",
       "        If set to :obj:`None`, all nodes will be considered.\n",
       "        In heterogeneous graphs, needs to be passed as a tuple that holds\n",
       "        the node type and node indices. (default: :obj:`None`)\n",
       "    input_time (torch.Tensor, optional): Optional values to override the\n",
       "        timestamp for the input nodes given in :obj:`input_nodes`. If not\n",
       "        set, will use the timestamps in :obj:`time_attr` as default (if\n",
       "        present). The :obj:`time_attr` needs to be set for this to work.\n",
       "        (default: :obj:`None`)\n",
       "    transform (Callable, optional): A function/transform that takes in\n",
       "        a sampled mini-batch and returns a transformed version.\n",
       "        (default: :obj:`None`)\n",
       "    filter_per_worker (bool, optional): If set to :obj:`True`, will filter\n",
       "        the returning data in each worker's subprocess rather than in the\n",
       "        main process.\n",
       "        Setting this to :obj:`True` is generally not recommended:\n",
       "        (1) it may result in too many open file handles,\n",
       "        (2) it may slown down data loading,\n",
       "        (3) it requires operating on CPU tensors.\n",
       "        (default: :obj:`False`)\n",
       "    **kwargs (optional): Additional arguments of\n",
       "        :class:`torch.utils.data.DataLoader`, such as :obj:`batch_size`,\n",
       "        :obj:`shuffle`, :obj:`drop_last` or :obj:`num_workers`.\n",
       "\u001b[0;31mFile:\u001b[0m           ~/.pyenv/versions/3.8.12/envs/torch/lib/python3.8/site-packages/torch_geometric/loader/node_loader.py\n",
       "\u001b[0;31mType:\u001b[0m           type\n",
       "\u001b[0;31mSubclasses:\u001b[0m     NeighborLoader, HGTLoader"
      ]
     },
     "metadata": {},
     "output_type": "display_data"
    }
   ],
   "source": [
    "torch_geometric.loader.NodeLoader?"
   ]
  },
  {
   "cell_type": "markdown",
   "id": "b12f53e5-16f7-432d-8f81-40453a6d6fa9",
   "metadata": {},
   "source": [
    "# Training"
   ]
  },
  {
   "cell_type": "code",
   "execution_count": 41,
   "id": "f39f5f21-2516-4fff-a91d-7eaeefec4dd2",
   "metadata": {
    "tags": []
   },
   "outputs": [],
   "source": [
    "from torch_geometric.datasets import Planetoid\n",
    "\n",
    "from torch_geometric.nn import GCNConv\n",
    "import torch.nn.functional as F\n"
   ]
  },
  {
   "cell_type": "code",
   "execution_count": 31,
   "id": "00240663-71d7-45f4-9726-2d811449165a",
   "metadata": {
    "tags": []
   },
   "outputs": [],
   "source": [
    "# Official toy dataset (a series of grpahs\n",
    "\n",
    "dataset = Planetoid(root='/tmp/Cora', name='Cora')\n"
   ]
  },
  {
   "cell_type": "code",
   "execution_count": 32,
   "id": "353f2401-34e1-4632-b6f1-f3edf726d38d",
   "metadata": {
    "tags": []
   },
   "outputs": [],
   "source": [
    "class GCN(torch.nn.Module):\n",
    "    def __init__(self):\n",
    "        super().__init__()\n",
    "        self.conv1 = GCNConv(dataset.num_node_features, 16)\n",
    "        self.conv2 = GCNConv(16, dataset.num_classes)\n",
    "\n",
    "    def forward(self, data):\n",
    "        x, edge_index = data.x, data.edge_index\n",
    "\n",
    "        x = self.conv1(x, edge_index)\n",
    "        x = F.relu(x)\n",
    "        x = F.dropout(x, training=self.training)\n",
    "        x = self.conv2(x, edge_index)\n",
    "\n",
    "        return F.log_softmax(x, dim=1)"
   ]
  },
  {
   "cell_type": "code",
   "execution_count": 37,
   "id": "485f8daa-6032-473f-b2ab-54506d6a699d",
   "metadata": {
    "tags": []
   },
   "outputs": [],
   "source": [
    "device = torch.device('cuda' if torch.cuda.is_available() else 'cpu')\n",
    "model = GCN().to(device)\n",
    "data = dataset[0].to(device)\n",
    "optimizer = torch.optim.Adam(model.parameters(), lr=0.01, weight_decay=5e-4)\n",
    "\n",
    "model.train()\n",
    "for epoch in range(200):\n",
    "    optimizer.zero_grad()\n",
    "    out = model(data)\n",
    "    loss = F.nll_loss(out[data.train_mask], data.y[data.train_mask])\n",
    "    loss.backward()\n",
    "    optimizer.step()"
   ]
  },
  {
   "cell_type": "code",
   "execution_count": 39,
   "id": "ae32ba67-8009-4973-ac12-42c95c124a57",
   "metadata": {
    "tags": []
   },
   "outputs": [
    {
     "ename": "NameError",
     "evalue": "name 'DataLoader' is not defined",
     "output_type": "error",
     "traceback": [
      "\u001b[0;31m---------------------------------------------------------------------------\u001b[0m",
      "\u001b[0;31mNameError\u001b[0m                                 Traceback (most recent call last)",
      "Cell \u001b[0;32mIn[39], line 5\u001b[0m\n\u001b[1;32m      3\u001b[0m data \u001b[38;5;241m=\u001b[39m dataset[\u001b[38;5;241m0\u001b[39m]\u001b[38;5;241m.\u001b[39mto(device)\n\u001b[1;32m      4\u001b[0m batch_size \u001b[38;5;241m=\u001b[39m \u001b[38;5;241m216\u001b[39m\n\u001b[0;32m----> 5\u001b[0m train_loader \u001b[38;5;241m=\u001b[39m \u001b[43mDataLoader\u001b[49m(dataset[\u001b[38;5;241m0\u001b[39m], batch_size\u001b[38;5;241m=\u001b[39mbatch_size, shuffle\u001b[38;5;241m=\u001b[39m\u001b[38;5;28;01mTrue\u001b[39;00m)\n\u001b[1;32m      8\u001b[0m optimizer \u001b[38;5;241m=\u001b[39m torch\u001b[38;5;241m.\u001b[39moptim\u001b[38;5;241m.\u001b[39mAdam(model\u001b[38;5;241m.\u001b[39mparameters(), lr\u001b[38;5;241m=\u001b[39m\u001b[38;5;241m0.01\u001b[39m, weight_decay\u001b[38;5;241m=\u001b[39m\u001b[38;5;241m5e-4\u001b[39m)\n\u001b[1;32m     10\u001b[0m model\u001b[38;5;241m.\u001b[39mtrain()\n",
      "\u001b[0;31mNameError\u001b[0m: name 'DataLoader' is not defined"
     ]
    }
   ],
   "source": [
    "device = torch.device('cuda' if torch.cuda.is_available() else 'cpu')\n",
    "model = GCN().to(device)\n",
    "data = dataset[0].to(device)\n",
    "batch_size = 216\n",
    "\n",
    "\n",
    "optimizer = torch.optim.Adam(model.parameters(), lr=0.01, weight_decay=5e-4)\n",
    "\n",
    "model.train()\n",
    "for epoch in range(200):\n",
    "    optimizer.zero_grad()\n",
    "    out = model(data)\n",
    "    loss = F.nll_loss(out[data.train_mask], data.y[data.train_mask])\n",
    "    loss.backward()\n",
    "    optimizer.step()\n",
    "\n"
   ]
  },
  {
   "cell_type": "code",
   "execution_count": 38,
   "id": "5296f2da-0e39-477c-a537-45ab43fa34f7",
   "metadata": {
    "tags": []
   },
   "outputs": [],
   "source": [
    "model.eval()\n",
    "pred = model(data).argmax(dim=1)\n",
    "correct = (pred[data.test_mask] == data.y[data.test_mask]).sum()\n",
    "acc = int(correct) / int(data.test_mask.sum())"
   ]
  },
  {
   "cell_type": "code",
   "execution_count": null,
   "id": "80b27d36-1814-4c55-b11e-1c751542e00d",
   "metadata": {},
   "outputs": [],
   "source": []
  }
 ],
 "metadata": {
  "kernelspec": {
   "display_name": "Python 3 (ipykernel)",
   "language": "python",
   "name": "python3"
  },
  "language_info": {
   "codemirror_mode": {
    "name": "ipython",
    "version": 3
   },
   "file_extension": ".py",
   "mimetype": "text/x-python",
   "name": "python",
   "nbconvert_exporter": "python",
   "pygments_lexer": "ipython3",
   "version": "3.8.12"
  }
 },
 "nbformat": 4,
 "nbformat_minor": 5
}
